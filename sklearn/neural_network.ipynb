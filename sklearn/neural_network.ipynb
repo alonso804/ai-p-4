{
  "nbformat": 4,
  "nbformat_minor": 0,
  "metadata": {
    "colab": {
      "name": "neural_network.ipynb",
      "provenance": [],
      "collapsed_sections": []
    },
    "kernelspec": {
      "name": "python3",
      "display_name": "Python 3"
    },
    "language_info": {
      "name": "python"
    }
  },
  "cells": [
    {
      "cell_type": "markdown",
      "metadata": {
        "id": "I8jxmU4F5y3D"
      },
      "source": [
        "# **Librerías**"
      ]
    },
    {
      "cell_type": "code",
      "metadata": {
        "id": "GeGAE_fE0EaW"
      },
      "source": [
        "import pandas as pd\n",
        "import numpy as np\n",
        "import matplotlib.pyplot as plt\n",
        "from sklearn.decomposition import PCA\n",
        "from sklearn.preprocessing import MinMaxScaler\n",
        "from sklearn.model_selection import train_test_split\n",
        "from sklearn.neural_network import MLPClassifier\n",
        "from sklearn.metrics import classification_report, confusion_matrix, accuracy_score, precision_score, recall_score"
      ],
      "execution_count": null,
      "outputs": []
    },
    {
      "cell_type": "markdown",
      "metadata": {
        "id": "oOk4zErp-_ut"
      },
      "source": [
        "# **Preprocesamiento**"
      ]
    },
    {
      "cell_type": "code",
      "metadata": {
        "id": "wmnNuXMG2PJB"
      },
      "source": [
        "def reduction(data, components):\n",
        "    pca = PCA(n_components=components)\n",
        "    principalComponents = pca.fit_transform(data)\n",
        "    df = pd.DataFrame(data=principalComponents)\n",
        "    df.to_csv(\"reducted.csv\", index=False)\n",
        "\n",
        "\n",
        "def normalize(data):\n",
        "    scaler = MinMaxScaler()\n",
        "    normalizeData = scaler.fit_transform(data)\n",
        "\n",
        "    return normalizeData\n",
        "\n",
        "\n",
        "def preprocessing(dataset, outputfile, shuffle=False):\n",
        "    df = pd.read_csv(dataset)\n",
        "    df = df.dropna()\n",
        "    df.iloc[:, 1:] = normalize(df.iloc[:, 1:])\n",
        "\n",
        "    if shuffle == True:\n",
        "        # np.random.seed(0)\n",
        "        df = df.sample(frac=1)\n",
        "\n",
        "    df.to_csv(outputfile, index=False)\n",
        "\n",
        "\n",
        "def main():\n",
        "    preprocessing(\"sign_mnist_train.csv\", \"train_normalize.csv\", True)\n",
        "    preprocessing(\"sign_mnist_test.csv\", \"test_normalize.csv\")\n",
        "\n",
        "main()"
      ],
      "execution_count": null,
      "outputs": []
    },
    {
      "cell_type": "markdown",
      "metadata": {
        "id": "BY8u5esuCmHL"
      },
      "source": [
        "# **Leer CSV**"
      ]
    },
    {
      "cell_type": "code",
      "metadata": {
        "colab": {
          "base_uri": "https://localhost:8080/",
          "height": 255
        },
        "id": "GwDcP43DCwf-",
        "outputId": "f90c4ae0-a477-40bf-aab7-19fe4fb8463c"
      },
      "source": [
        "train = pd.read_csv(\"train_normalize.csv\")\n",
        "test = pd.read_csv(\"test_normalize.csv\")\n",
        "train.head()"
      ],
      "execution_count": null,
      "outputs": [
        {
          "output_type": "execute_result",
          "data": {
            "text/html": [
              "<div>\n",
              "<style scoped>\n",
              "    .dataframe tbody tr th:only-of-type {\n",
              "        vertical-align: middle;\n",
              "    }\n",
              "\n",
              "    .dataframe tbody tr th {\n",
              "        vertical-align: top;\n",
              "    }\n",
              "\n",
              "    .dataframe thead th {\n",
              "        text-align: right;\n",
              "    }\n",
              "</style>\n",
              "<table border=\"1\" class=\"dataframe\">\n",
              "  <thead>\n",
              "    <tr style=\"text-align: right;\">\n",
              "      <th></th>\n",
              "      <th>label</th>\n",
              "      <th>pixel1</th>\n",
              "      <th>pixel2</th>\n",
              "      <th>pixel3</th>\n",
              "      <th>pixel4</th>\n",
              "      <th>pixel5</th>\n",
              "      <th>pixel6</th>\n",
              "      <th>pixel7</th>\n",
              "      <th>pixel8</th>\n",
              "      <th>pixel9</th>\n",
              "      <th>pixel10</th>\n",
              "      <th>pixel11</th>\n",
              "      <th>pixel12</th>\n",
              "      <th>pixel13</th>\n",
              "      <th>pixel14</th>\n",
              "      <th>pixel15</th>\n",
              "      <th>pixel16</th>\n",
              "      <th>pixel17</th>\n",
              "      <th>pixel18</th>\n",
              "      <th>pixel19</th>\n",
              "      <th>pixel20</th>\n",
              "      <th>pixel21</th>\n",
              "      <th>pixel22</th>\n",
              "      <th>pixel23</th>\n",
              "      <th>pixel24</th>\n",
              "      <th>pixel25</th>\n",
              "      <th>pixel26</th>\n",
              "      <th>pixel27</th>\n",
              "      <th>pixel28</th>\n",
              "      <th>pixel29</th>\n",
              "      <th>pixel30</th>\n",
              "      <th>pixel31</th>\n",
              "      <th>pixel32</th>\n",
              "      <th>pixel33</th>\n",
              "      <th>pixel34</th>\n",
              "      <th>pixel35</th>\n",
              "      <th>pixel36</th>\n",
              "      <th>pixel37</th>\n",
              "      <th>pixel38</th>\n",
              "      <th>pixel39</th>\n",
              "      <th>...</th>\n",
              "      <th>pixel745</th>\n",
              "      <th>pixel746</th>\n",
              "      <th>pixel747</th>\n",
              "      <th>pixel748</th>\n",
              "      <th>pixel749</th>\n",
              "      <th>pixel750</th>\n",
              "      <th>pixel751</th>\n",
              "      <th>pixel752</th>\n",
              "      <th>pixel753</th>\n",
              "      <th>pixel754</th>\n",
              "      <th>pixel755</th>\n",
              "      <th>pixel756</th>\n",
              "      <th>pixel757</th>\n",
              "      <th>pixel758</th>\n",
              "      <th>pixel759</th>\n",
              "      <th>pixel760</th>\n",
              "      <th>pixel761</th>\n",
              "      <th>pixel762</th>\n",
              "      <th>pixel763</th>\n",
              "      <th>pixel764</th>\n",
              "      <th>pixel765</th>\n",
              "      <th>pixel766</th>\n",
              "      <th>pixel767</th>\n",
              "      <th>pixel768</th>\n",
              "      <th>pixel769</th>\n",
              "      <th>pixel770</th>\n",
              "      <th>pixel771</th>\n",
              "      <th>pixel772</th>\n",
              "      <th>pixel773</th>\n",
              "      <th>pixel774</th>\n",
              "      <th>pixel775</th>\n",
              "      <th>pixel776</th>\n",
              "      <th>pixel777</th>\n",
              "      <th>pixel778</th>\n",
              "      <th>pixel779</th>\n",
              "      <th>pixel780</th>\n",
              "      <th>pixel781</th>\n",
              "      <th>pixel782</th>\n",
              "      <th>pixel783</th>\n",
              "      <th>pixel784</th>\n",
              "    </tr>\n",
              "  </thead>\n",
              "  <tbody>\n",
              "    <tr>\n",
              "      <th>0</th>\n",
              "      <td>6</td>\n",
              "      <td>0.670588</td>\n",
              "      <td>0.670588</td>\n",
              "      <td>0.674510</td>\n",
              "      <td>0.682353</td>\n",
              "      <td>0.690196</td>\n",
              "      <td>0.686275</td>\n",
              "      <td>0.686275</td>\n",
              "      <td>0.686275</td>\n",
              "      <td>0.690196</td>\n",
              "      <td>0.686275</td>\n",
              "      <td>0.686275</td>\n",
              "      <td>0.678431</td>\n",
              "      <td>0.678431</td>\n",
              "      <td>0.678431</td>\n",
              "      <td>0.670588</td>\n",
              "      <td>0.642857</td>\n",
              "      <td>0.633621</td>\n",
              "      <td>0.625551</td>\n",
              "      <td>0.610860</td>\n",
              "      <td>0.658824</td>\n",
              "      <td>0.658824</td>\n",
              "      <td>0.650980</td>\n",
              "      <td>0.650980</td>\n",
              "      <td>0.643137</td>\n",
              "      <td>0.643137</td>\n",
              "      <td>0.643137</td>\n",
              "      <td>0.635294</td>\n",
              "      <td>0.631373</td>\n",
              "      <td>0.674510</td>\n",
              "      <td>0.678431</td>\n",
              "      <td>0.686275</td>\n",
              "      <td>0.694118</td>\n",
              "      <td>0.694118</td>\n",
              "      <td>0.694118</td>\n",
              "      <td>0.694118</td>\n",
              "      <td>0.698039</td>\n",
              "      <td>0.694118</td>\n",
              "      <td>0.694118</td>\n",
              "      <td>0.690196</td>\n",
              "      <td>...</td>\n",
              "      <td>0.796078</td>\n",
              "      <td>0.792157</td>\n",
              "      <td>0.780392</td>\n",
              "      <td>0.780392</td>\n",
              "      <td>0.784314</td>\n",
              "      <td>0.768627</td>\n",
              "      <td>0.686275</td>\n",
              "      <td>0.588235</td>\n",
              "      <td>0.533333</td>\n",
              "      <td>0.458824</td>\n",
              "      <td>0.372549</td>\n",
              "      <td>0.282353</td>\n",
              "      <td>0.082353</td>\n",
              "      <td>0.109804</td>\n",
              "      <td>0.027451</td>\n",
              "      <td>0.058824</td>\n",
              "      <td>0.000000</td>\n",
              "      <td>0.074510</td>\n",
              "      <td>0.666667</td>\n",
              "      <td>0.615686</td>\n",
              "      <td>0.623529</td>\n",
              "      <td>0.619608</td>\n",
              "      <td>0.611765</td>\n",
              "      <td>0.607843</td>\n",
              "      <td>0.603922</td>\n",
              "      <td>0.600000</td>\n",
              "      <td>0.596078</td>\n",
              "      <td>0.588235</td>\n",
              "      <td>0.592157</td>\n",
              "      <td>0.584314</td>\n",
              "      <td>0.580392</td>\n",
              "      <td>0.584314</td>\n",
              "      <td>0.517647</td>\n",
              "      <td>0.356863</td>\n",
              "      <td>0.180392</td>\n",
              "      <td>0.074510</td>\n",
              "      <td>0.035294</td>\n",
              "      <td>0.003922</td>\n",
              "      <td>0.000000</td>\n",
              "      <td>0.000000</td>\n",
              "    </tr>\n",
              "    <tr>\n",
              "      <th>1</th>\n",
              "      <td>10</td>\n",
              "      <td>0.294118</td>\n",
              "      <td>0.368627</td>\n",
              "      <td>0.223529</td>\n",
              "      <td>0.062745</td>\n",
              "      <td>0.207843</td>\n",
              "      <td>0.262745</td>\n",
              "      <td>0.282353</td>\n",
              "      <td>0.305882</td>\n",
              "      <td>0.329412</td>\n",
              "      <td>0.384314</td>\n",
              "      <td>0.435294</td>\n",
              "      <td>0.462745</td>\n",
              "      <td>0.490196</td>\n",
              "      <td>0.505882</td>\n",
              "      <td>0.521569</td>\n",
              "      <td>0.504202</td>\n",
              "      <td>0.500000</td>\n",
              "      <td>0.502203</td>\n",
              "      <td>0.502262</td>\n",
              "      <td>0.580392</td>\n",
              "      <td>0.588235</td>\n",
              "      <td>0.592157</td>\n",
              "      <td>0.600000</td>\n",
              "      <td>0.607843</td>\n",
              "      <td>0.615686</td>\n",
              "      <td>0.619608</td>\n",
              "      <td>0.627451</td>\n",
              "      <td>0.631373</td>\n",
              "      <td>0.333333</td>\n",
              "      <td>0.368627</td>\n",
              "      <td>0.188235</td>\n",
              "      <td>0.074510</td>\n",
              "      <td>0.223529</td>\n",
              "      <td>0.266667</td>\n",
              "      <td>0.286275</td>\n",
              "      <td>0.309804</td>\n",
              "      <td>0.337255</td>\n",
              "      <td>0.392157</td>\n",
              "      <td>0.443137</td>\n",
              "      <td>...</td>\n",
              "      <td>0.282353</td>\n",
              "      <td>0.223529</td>\n",
              "      <td>0.247059</td>\n",
              "      <td>0.592157</td>\n",
              "      <td>0.674510</td>\n",
              "      <td>0.686275</td>\n",
              "      <td>0.694118</td>\n",
              "      <td>0.698039</td>\n",
              "      <td>0.705882</td>\n",
              "      <td>0.709804</td>\n",
              "      <td>0.717647</td>\n",
              "      <td>0.725490</td>\n",
              "      <td>0.082353</td>\n",
              "      <td>0.235294</td>\n",
              "      <td>0.290196</td>\n",
              "      <td>0.294118</td>\n",
              "      <td>0.313725</td>\n",
              "      <td>0.333333</td>\n",
              "      <td>0.364706</td>\n",
              "      <td>0.423529</td>\n",
              "      <td>0.458824</td>\n",
              "      <td>0.490196</td>\n",
              "      <td>0.694118</td>\n",
              "      <td>0.721569</td>\n",
              "      <td>0.662745</td>\n",
              "      <td>0.650980</td>\n",
              "      <td>0.537255</td>\n",
              "      <td>0.388235</td>\n",
              "      <td>0.286275</td>\n",
              "      <td>0.223529</td>\n",
              "      <td>0.258824</td>\n",
              "      <td>0.627451</td>\n",
              "      <td>0.678431</td>\n",
              "      <td>0.690196</td>\n",
              "      <td>0.698039</td>\n",
              "      <td>0.701961</td>\n",
              "      <td>0.709804</td>\n",
              "      <td>0.713725</td>\n",
              "      <td>0.725490</td>\n",
              "      <td>0.725490</td>\n",
              "    </tr>\n",
              "    <tr>\n",
              "      <th>2</th>\n",
              "      <td>4</td>\n",
              "      <td>0.400000</td>\n",
              "      <td>0.415686</td>\n",
              "      <td>0.439216</td>\n",
              "      <td>0.466667</td>\n",
              "      <td>0.486275</td>\n",
              "      <td>0.505882</td>\n",
              "      <td>0.521569</td>\n",
              "      <td>0.533333</td>\n",
              "      <td>0.549020</td>\n",
              "      <td>0.560784</td>\n",
              "      <td>0.576471</td>\n",
              "      <td>0.596078</td>\n",
              "      <td>0.607843</td>\n",
              "      <td>0.611765</td>\n",
              "      <td>0.619608</td>\n",
              "      <td>0.605042</td>\n",
              "      <td>0.594828</td>\n",
              "      <td>0.585903</td>\n",
              "      <td>0.583710</td>\n",
              "      <td>0.639216</td>\n",
              "      <td>0.643137</td>\n",
              "      <td>0.643137</td>\n",
              "      <td>0.647059</td>\n",
              "      <td>0.639216</td>\n",
              "      <td>0.635294</td>\n",
              "      <td>0.639216</td>\n",
              "      <td>0.635294</td>\n",
              "      <td>0.627451</td>\n",
              "      <td>0.415686</td>\n",
              "      <td>0.431373</td>\n",
              "      <td>0.450980</td>\n",
              "      <td>0.482353</td>\n",
              "      <td>0.505882</td>\n",
              "      <td>0.521569</td>\n",
              "      <td>0.537255</td>\n",
              "      <td>0.545098</td>\n",
              "      <td>0.560784</td>\n",
              "      <td>0.580392</td>\n",
              "      <td>0.596078</td>\n",
              "      <td>...</td>\n",
              "      <td>0.360784</td>\n",
              "      <td>0.384314</td>\n",
              "      <td>0.176471</td>\n",
              "      <td>0.231373</td>\n",
              "      <td>0.137255</td>\n",
              "      <td>0.000000</td>\n",
              "      <td>0.000000</td>\n",
              "      <td>0.000000</td>\n",
              "      <td>0.105882</td>\n",
              "      <td>0.019608</td>\n",
              "      <td>0.000000</td>\n",
              "      <td>0.000000</td>\n",
              "      <td>0.690196</td>\n",
              "      <td>0.721569</td>\n",
              "      <td>0.756863</td>\n",
              "      <td>0.788235</td>\n",
              "      <td>0.811765</td>\n",
              "      <td>0.819608</td>\n",
              "      <td>0.917647</td>\n",
              "      <td>0.501961</td>\n",
              "      <td>0.211765</td>\n",
              "      <td>0.807843</td>\n",
              "      <td>0.858824</td>\n",
              "      <td>0.819608</td>\n",
              "      <td>0.721569</td>\n",
              "      <td>0.607843</td>\n",
              "      <td>0.470588</td>\n",
              "      <td>0.364706</td>\n",
              "      <td>0.349020</td>\n",
              "      <td>0.345098</td>\n",
              "      <td>0.164706</td>\n",
              "      <td>0.066667</td>\n",
              "      <td>0.050980</td>\n",
              "      <td>0.019608</td>\n",
              "      <td>0.000000</td>\n",
              "      <td>0.000000</td>\n",
              "      <td>0.054902</td>\n",
              "      <td>0.078431</td>\n",
              "      <td>0.000000</td>\n",
              "      <td>0.000000</td>\n",
              "    </tr>\n",
              "    <tr>\n",
              "      <th>3</th>\n",
              "      <td>7</td>\n",
              "      <td>0.556863</td>\n",
              "      <td>0.560784</td>\n",
              "      <td>0.564706</td>\n",
              "      <td>0.576471</td>\n",
              "      <td>0.584314</td>\n",
              "      <td>0.592157</td>\n",
              "      <td>0.596078</td>\n",
              "      <td>0.603922</td>\n",
              "      <td>0.607843</td>\n",
              "      <td>0.611765</td>\n",
              "      <td>0.619608</td>\n",
              "      <td>0.615686</td>\n",
              "      <td>0.611765</td>\n",
              "      <td>0.611765</td>\n",
              "      <td>0.615686</td>\n",
              "      <td>0.584034</td>\n",
              "      <td>0.568966</td>\n",
              "      <td>0.563877</td>\n",
              "      <td>0.552036</td>\n",
              "      <td>0.603922</td>\n",
              "      <td>0.600000</td>\n",
              "      <td>0.600000</td>\n",
              "      <td>0.596078</td>\n",
              "      <td>0.592157</td>\n",
              "      <td>0.588235</td>\n",
              "      <td>0.588235</td>\n",
              "      <td>0.584314</td>\n",
              "      <td>0.580392</td>\n",
              "      <td>0.552941</td>\n",
              "      <td>0.564706</td>\n",
              "      <td>0.572549</td>\n",
              "      <td>0.580392</td>\n",
              "      <td>0.592157</td>\n",
              "      <td>0.600000</td>\n",
              "      <td>0.603922</td>\n",
              "      <td>0.611765</td>\n",
              "      <td>0.615686</td>\n",
              "      <td>0.615686</td>\n",
              "      <td>0.615686</td>\n",
              "      <td>...</td>\n",
              "      <td>0.752941</td>\n",
              "      <td>0.749020</td>\n",
              "      <td>0.745098</td>\n",
              "      <td>0.741176</td>\n",
              "      <td>0.741176</td>\n",
              "      <td>0.737255</td>\n",
              "      <td>0.729412</td>\n",
              "      <td>0.729412</td>\n",
              "      <td>0.733333</td>\n",
              "      <td>0.713725</td>\n",
              "      <td>0.639216</td>\n",
              "      <td>0.592157</td>\n",
              "      <td>0.000000</td>\n",
              "      <td>0.000000</td>\n",
              "      <td>0.000000</td>\n",
              "      <td>0.015686</td>\n",
              "      <td>0.607843</td>\n",
              "      <td>0.580392</td>\n",
              "      <td>0.584314</td>\n",
              "      <td>0.580392</td>\n",
              "      <td>0.584314</td>\n",
              "      <td>0.588235</td>\n",
              "      <td>0.592157</td>\n",
              "      <td>0.592157</td>\n",
              "      <td>0.580392</td>\n",
              "      <td>0.580392</td>\n",
              "      <td>0.584314</td>\n",
              "      <td>0.576471</td>\n",
              "      <td>0.568627</td>\n",
              "      <td>0.556863</td>\n",
              "      <td>0.556863</td>\n",
              "      <td>0.549020</td>\n",
              "      <td>0.549020</td>\n",
              "      <td>0.549020</td>\n",
              "      <td>0.549020</td>\n",
              "      <td>0.533333</td>\n",
              "      <td>0.458824</td>\n",
              "      <td>0.301961</td>\n",
              "      <td>0.125490</td>\n",
              "      <td>0.062745</td>\n",
              "    </tr>\n",
              "    <tr>\n",
              "      <th>4</th>\n",
              "      <td>20</td>\n",
              "      <td>0.607843</td>\n",
              "      <td>0.611765</td>\n",
              "      <td>0.611765</td>\n",
              "      <td>0.611765</td>\n",
              "      <td>0.615686</td>\n",
              "      <td>0.623529</td>\n",
              "      <td>0.619608</td>\n",
              "      <td>0.623529</td>\n",
              "      <td>0.623529</td>\n",
              "      <td>0.623529</td>\n",
              "      <td>0.623529</td>\n",
              "      <td>0.627451</td>\n",
              "      <td>0.631373</td>\n",
              "      <td>0.627451</td>\n",
              "      <td>0.623529</td>\n",
              "      <td>0.596639</td>\n",
              "      <td>0.586207</td>\n",
              "      <td>0.572687</td>\n",
              "      <td>0.570136</td>\n",
              "      <td>0.619608</td>\n",
              "      <td>0.611765</td>\n",
              "      <td>0.607843</td>\n",
              "      <td>0.603922</td>\n",
              "      <td>0.611765</td>\n",
              "      <td>0.490196</td>\n",
              "      <td>0.129412</td>\n",
              "      <td>0.019608</td>\n",
              "      <td>0.019608</td>\n",
              "      <td>0.615686</td>\n",
              "      <td>0.615686</td>\n",
              "      <td>0.619608</td>\n",
              "      <td>0.627451</td>\n",
              "      <td>0.631373</td>\n",
              "      <td>0.627451</td>\n",
              "      <td>0.631373</td>\n",
              "      <td>0.631373</td>\n",
              "      <td>0.631373</td>\n",
              "      <td>0.631373</td>\n",
              "      <td>0.639216</td>\n",
              "      <td>...</td>\n",
              "      <td>0.529412</td>\n",
              "      <td>0.549020</td>\n",
              "      <td>0.423529</td>\n",
              "      <td>0.313725</td>\n",
              "      <td>0.411765</td>\n",
              "      <td>0.670588</td>\n",
              "      <td>0.643137</td>\n",
              "      <td>0.694118</td>\n",
              "      <td>0.721569</td>\n",
              "      <td>0.709804</td>\n",
              "      <td>0.749020</td>\n",
              "      <td>0.737255</td>\n",
              "      <td>0.349020</td>\n",
              "      <td>0.349020</td>\n",
              "      <td>0.341176</td>\n",
              "      <td>0.349020</td>\n",
              "      <td>0.349020</td>\n",
              "      <td>0.349020</td>\n",
              "      <td>0.356863</td>\n",
              "      <td>0.352941</td>\n",
              "      <td>0.356863</td>\n",
              "      <td>0.345098</td>\n",
              "      <td>0.396078</td>\n",
              "      <td>0.760784</td>\n",
              "      <td>0.725490</td>\n",
              "      <td>0.576471</td>\n",
              "      <td>0.482353</td>\n",
              "      <td>0.525490</td>\n",
              "      <td>0.545098</td>\n",
              "      <td>0.552941</td>\n",
              "      <td>0.407843</td>\n",
              "      <td>0.305882</td>\n",
              "      <td>0.576471</td>\n",
              "      <td>0.721569</td>\n",
              "      <td>0.588235</td>\n",
              "      <td>0.552941</td>\n",
              "      <td>0.635294</td>\n",
              "      <td>0.678431</td>\n",
              "      <td>0.705882</td>\n",
              "      <td>0.717647</td>\n",
              "    </tr>\n",
              "  </tbody>\n",
              "</table>\n",
              "<p>5 rows × 785 columns</p>\n",
              "</div>"
            ],
            "text/plain": [
              "   label    pixel1    pixel2    pixel3  ...  pixel781  pixel782  pixel783  pixel784\n",
              "0      6  0.670588  0.670588  0.674510  ...  0.035294  0.003922  0.000000  0.000000\n",
              "1     10  0.294118  0.368627  0.223529  ...  0.709804  0.713725  0.725490  0.725490\n",
              "2      4  0.400000  0.415686  0.439216  ...  0.054902  0.078431  0.000000  0.000000\n",
              "3      7  0.556863  0.560784  0.564706  ...  0.458824  0.301961  0.125490  0.062745\n",
              "4     20  0.607843  0.611765  0.611765  ...  0.635294  0.678431  0.705882  0.717647\n",
              "\n",
              "[5 rows x 785 columns]"
            ]
          },
          "metadata": {},
          "execution_count": 161
        }
      ]
    },
    {
      "cell_type": "markdown",
      "metadata": {
        "id": "js_CzVlo6tDw"
      },
      "source": [
        "# **Separar features de target**"
      ]
    },
    {
      "cell_type": "code",
      "metadata": {
        "id": "7FbqNY2qDEAM"
      },
      "source": [
        "train_labels = train.pop('label')\n",
        "train_features = np.array(train.copy())\n",
        "\n",
        "test_labels = test.pop('label')\n",
        "test_features = np.array(test.copy())"
      ],
      "execution_count": null,
      "outputs": []
    },
    {
      "cell_type": "markdown",
      "metadata": {
        "id": "6ETfxDZU7CJc"
      },
      "source": [
        "# **Definir X y Y para test y train**"
      ]
    },
    {
      "cell_type": "code",
      "metadata": {
        "id": "zKMygK8jI_L4"
      },
      "source": [
        "y_train = np.array(train_labels)\n",
        "y_test = np.array(test_labels)\n",
        "x_train = train_features\n",
        "x_test = test_features"
      ],
      "execution_count": null,
      "outputs": []
    },
    {
      "cell_type": "markdown",
      "metadata": {
        "id": "i7VWE32p9UEZ"
      },
      "source": [
        "# **Verificar nan en X y Y**"
      ]
    },
    {
      "cell_type": "code",
      "metadata": {
        "colab": {
          "base_uri": "https://localhost:8080/"
        },
        "id": "RlZdXZKqtmUV",
        "outputId": "e9c3da18-dac1-4982-d03a-2a80c9032739"
      },
      "source": [
        "print(x_train.shape)\n",
        "print(y_train.shape)\n",
        "print(np.any(np.isnan(x_train)))\n",
        "print(np.all(np.isfinite(x_train)))\n",
        "print(np.any(np.isnan(y_train)))\n",
        "print(np.all(np.isfinite(y_train)))"
      ],
      "execution_count": null,
      "outputs": [
        {
          "output_type": "stream",
          "name": "stdout",
          "text": [
            "(27455, 784)\n",
            "(27455,)\n",
            "False\n",
            "True\n",
            "False\n",
            "True\n"
          ]
        }
      ]
    },
    {
      "cell_type": "markdown",
      "metadata": {
        "id": "A-0spo5Qd-WO"
      },
      "source": [
        "## **Red neuronal MLP Classifier con:**\n"
      ]
    },
    {
      "cell_type": "markdown",
      "metadata": {
        "id": "TBI9oqAW-7Qr"
      },
      "source": [
        "### **Función de activación relu**"
      ]
    },
    {
      "cell_type": "markdown",
      "metadata": {
        "id": "RaF1rZphJbSy"
      },
      "source": [
        "### Se definen los modelos"
      ]
    },
    {
      "cell_type": "code",
      "metadata": {
        "id": "ZJlGExfFRJBn"
      },
      "source": [
        "#Tres capas internas de 50 neuronas cada una\n",
        "#optimizador de la estocástica basada en gradientes propuesto por Kingma, Diederik y Jimmy Ba \n",
        "clf = MLPClassifier(\n",
        "    hidden_layer_sizes=(50, 50, 50),\n",
        "    solver=\"adam\",\n",
        "    max_iter=100,\n",
        "    #verbose=True\n",
        "    )\n",
        "\n",
        "#Tres capas internas de 50 neuronas cada una \n",
        "# Estocástica de gradiente descendiente\n",
        "clf1 = MLPClassifier(\n",
        "    hidden_layer_sizes=(50, 50, 50),\n",
        "    solver=\"sgd\",\n",
        "    max_iter=100,\n",
        "    #verbose=True\n",
        "    )\n",
        "\n",
        "#Tres capas internas de 20 neuronas cada una\n",
        "#optimizador de la estocástica basada en gradientes propuesto por Kingma, Diederik y Jimmy Ba \n",
        "clf2 = MLPClassifier(\n",
        "    hidden_layer_sizes=(20, 20, 20),\n",
        "    solver=\"adam\",\n",
        "    max_iter=100,\n",
        "    #verbose=True\n",
        "    )\n",
        "\n",
        "#Tres capas internas de 20 neuronas cada una \n",
        "# Estocástica de gradiente descendiente\n",
        "clf3 = MLPClassifier(\n",
        "    hidden_layer_sizes=(20, 20, 20),\n",
        "    solver=\"sgd\",\n",
        "    max_iter=100,\n",
        "    #verbose=True\n",
        "    )"
      ],
      "execution_count": null,
      "outputs": []
    },
    {
      "cell_type": "markdown",
      "metadata": {
        "id": "eA8E62XlMZwN"
      },
      "source": [
        "### Se entrenan los modelos"
      ]
    },
    {
      "cell_type": "code",
      "metadata": {
        "id": "ZToV8iXlsNKr",
        "colab": {
          "base_uri": "https://localhost:8080/"
        },
        "outputId": "1c0791c9-8316-4017-c123-f948bb349c8e"
      },
      "source": [
        "clf.fit(x_train, y_train)\n",
        "clf1.fit(x_train, y_train)\n",
        "clf2.fit(x_train, y_train)\n",
        "clf3.fit(x_train, y_train)"
      ],
      "execution_count": null,
      "outputs": [
        {
          "output_type": "stream",
          "name": "stderr",
          "text": [
            "/usr/local/lib/python3.7/dist-packages/sklearn/neural_network/_multilayer_perceptron.py:696: ConvergenceWarning: Stochastic Optimizer: Maximum iterations (100) reached and the optimization hasn't converged yet.\n",
            "  ConvergenceWarning,\n",
            "/usr/local/lib/python3.7/dist-packages/sklearn/neural_network/_multilayer_perceptron.py:696: ConvergenceWarning: Stochastic Optimizer: Maximum iterations (100) reached and the optimization hasn't converged yet.\n",
            "  ConvergenceWarning,\n",
            "/usr/local/lib/python3.7/dist-packages/sklearn/neural_network/_multilayer_perceptron.py:696: ConvergenceWarning: Stochastic Optimizer: Maximum iterations (100) reached and the optimization hasn't converged yet.\n",
            "  ConvergenceWarning,\n"
          ]
        },
        {
          "output_type": "execute_result",
          "data": {
            "text/plain": [
              "MLPClassifier(hidden_layer_sizes=(20, 20, 20), max_iter=100, solver='sgd')"
            ]
          },
          "metadata": {},
          "execution_count": 166
        }
      ]
    },
    {
      "cell_type": "markdown",
      "metadata": {
        "id": "PyKHx1fVMgAu"
      },
      "source": [
        "### Se generan las predicciónes con los datos de testing"
      ]
    },
    {
      "cell_type": "code",
      "metadata": {
        "id": "HBkLKG-4WMXn"
      },
      "source": [
        "y_pred = clf.predict(x_test)\n",
        "y_pred1 = clf1.predict(x_test)\n",
        "y_pred2 = clf2.predict(x_test)\n",
        "y_pred3 = clf3.predict(x_test)"
      ],
      "execution_count": null,
      "outputs": []
    },
    {
      "cell_type": "markdown",
      "metadata": {
        "id": "SyRyqJYQMnrm"
      },
      "source": [
        "### Se imprimen la matrices de confusión y los reportes de accuracy"
      ]
    },
    {
      "cell_type": "code",
      "metadata": {
        "id": "zaskRX-6WUGm",
        "colab": {
          "base_uri": "https://localhost:8080/"
        },
        "outputId": "95c2d4eb-45c5-4d8a-f3b2-b3b54526e2b3"
      },
      "source": [
        "print(\"Matriz de confusión y reporte función relu variante 1 \\n\")\n",
        "print(confusion_matrix(y_test,y_pred))\n",
        "print()\n",
        "print(classification_report(y_test,y_pred))\n",
        "print(\"\\nMatriz de confusión y reporte función relu variante 2 \\n\")\n",
        "print(confusion_matrix(y_test,y_pred1))\n",
        "print()\n",
        "print(classification_report(y_test,y_pred1))\n",
        "print(\"\\nMatriz de confusión y reporte función relu variante 3 \\n\")\n",
        "print(confusion_matrix(y_test,y_pred2))\n",
        "print()\n",
        "print(classification_report(y_test,y_pred2))\n",
        "print(\"\\nMatriz de confusión y reporte función relu variante 4 \\n\")\n",
        "print(confusion_matrix(y_test,y_pred3))\n",
        "print()\n",
        "print(classification_report(y_test,y_pred3))"
      ],
      "execution_count": null,
      "outputs": [
        {
          "output_type": "stream",
          "name": "stdout",
          "text": [
            "Matriz de confusión y reporte función relu variante 1 \n",
            "\n",
            "[[314   0   0   0   0   0   0   0   0   0   0   0  17   0   0   0   0   0\n",
            "    0   0   0   0   0   0]\n",
            " [  0 361   0   1   0   0   0   0  29  20   0   0   0   0   0   0   0   0\n",
            "    0  21   0   0   0   0]\n",
            " [  0   0 282   0   0  21   0   0   0   0   0   0   0   7   0   0   0   0\n",
            "    0   0   0   0   0   0]\n",
            " [  0   0   0 159  19   0   0   0   0   0   5   0   0   0   0   0  24   0\n",
            "    0  18   0   0  20   0]\n",
            " [  0  13   0   0 415   0   0   0  11   0   0   7   0   0   0   0   0  52\n",
            "    0   0   0   0   0   0]\n",
            " [  0   0   0   0   0 226   0   0   0   0   0   0   0   0   0   0   0   0\n",
            "   21   0   0   0   0   0]\n",
            " [  0   0   0   2   0   1 245  40   0   0  18   0   0   0   6  36   0   0\n",
            "    0   0   0   0   0   0]\n",
            " [  0   0   0   0  15   0  44 332   0   0   0  18   0   0   6   0   0   0\n",
            "    0  21   0   0   0   0]\n",
            " [ 20   0   0   0   0   0   0   3 204   0   0   0   0   0   0   0   0   0\n",
            "    2   0   0  20   1  38]\n",
            " [  0   0   0   0   0  22   0   0  13 173   0   0   0   0   0   0  76   9\n",
            "    0   0   6  17   0  15]\n",
            " [  0   0   6   0   0   0  21   0   0   0 182   0   0   0   0   0   0   0\n",
            "    0   0   0   0   0   0]\n",
            " [  0   0   0   0  63   0   0   0  21   0   0 198  19  21   0   6   0  66\n",
            "    0   0   0   0   0   0]\n",
            " [ 63   0   0   0  26   0  21   0   0   0   0  14 126   5   0  21   0  15\n",
            "    0   0   0   0   0   0]\n",
            " [  0   0   2   0   0  40  18   0   0   0   0   0   0 160  20   6   0   0\n",
            "    0   0   0   0   0   0]\n",
            " [  0   0   0   0   0   0  10   0   0   0   0   0   0   0 337   0   0   0\n",
            "    0   0   0   0   0   0]\n",
            " [  0   0   0   0   0  21   0   0   0   0   0   0   7   0   0 136   0   0\n",
            "    0   0   0   0   0   0]\n",
            " [  0   0   0   0   0   0   0   0   0   0  21   0   0   0   0   0 103   0\n",
            "    0  20   0   0   0   0]\n",
            " [  0   0   0   0  37   0   0   0  46   0   0  42   0   4  14  19   0  84\n",
            "    0   0   0   0   0   0]\n",
            " [  0   0   3   0   0   0   2   6  21   0  20   0   0   0   0  15   0   0\n",
            "   99  20   0   0  62   0]\n",
            " [  0   0   0   7   0   0   0   0   0  14  39   0   0   0   0   0  25   0\n",
            "    0 152   1  21   0   7]\n",
            " [  0   0   0   0   0  41  44   0   0  11  19   0   0   0   0   0   9   0\n",
            "    0  20 126  59  17   0]\n",
            " [  0   0   0   0   0   0   0  20   0   0   0   0   0   0   0   0  20   0\n",
            "    0  21   0 145   0   0]\n",
            " [  0   0   0   0   0   0   0   0   0   0  22   0   0   0   0   0   0  24\n",
            "    0   0   0  24 197   0]\n",
            " [  0   0   0   0   2   0   0   0  20   8  21   0   0   0   6   0   0  36\n",
            "   28   0  20  19   0 172]]\n",
            "\n",
            "              precision    recall  f1-score   support\n",
            "\n",
            "           0       0.79      0.95      0.86       331\n",
            "           1       0.97      0.84      0.90       432\n",
            "           2       0.96      0.91      0.94       310\n",
            "           3       0.94      0.65      0.77       245\n",
            "           4       0.72      0.83      0.77       498\n",
            "           5       0.61      0.91      0.73       247\n",
            "           6       0.60      0.70      0.65       348\n",
            "           7       0.83      0.76      0.79       436\n",
            "           8       0.56      0.71      0.62       288\n",
            "          10       0.77      0.52      0.62       331\n",
            "          11       0.52      0.87      0.65       209\n",
            "          12       0.71      0.50      0.59       394\n",
            "          13       0.75      0.43      0.55       291\n",
            "          14       0.81      0.65      0.72       246\n",
            "          15       0.87      0.97      0.92       347\n",
            "          16       0.57      0.83      0.67       164\n",
            "          17       0.40      0.72      0.51       144\n",
            "          18       0.29      0.34      0.32       246\n",
            "          19       0.66      0.40      0.50       248\n",
            "          20       0.52      0.57      0.54       266\n",
            "          21       0.82      0.36      0.51       346\n",
            "          22       0.48      0.70      0.57       206\n",
            "          23       0.66      0.74      0.70       267\n",
            "          24       0.74      0.52      0.61       332\n",
            "\n",
            "    accuracy                           0.69      7172\n",
            "   macro avg       0.69      0.68      0.67      7172\n",
            "weighted avg       0.72      0.69      0.68      7172\n",
            "\n",
            "\n",
            "Matriz de confusión y reporte función relu variante 2 \n",
            "\n",
            "[[331   0   0   0   0   0   0   0   0   0   0   0   0   0   0   0   0   0\n",
            "    0   0   0   0   0   0]\n",
            " [  0 358   0  20   0   0   0   0   0   0   0   0   0   0   0   0   0   8\n",
            "    0  41   0   5   0   0]\n",
            " [  0   0 289   0   0  21   0   0   0   0   0   0   0   0   0   0   0   0\n",
            "    0   0   0   0   0   0]\n",
            " [  0  12   0 160   0   0   0   0   0   7   0   0   0   0   0   0  21   0\n",
            "    0   9  16   0  20   0]\n",
            " [  0   6   0   0 448   0   0   0   0   0   0   1   0   0   0   0   0  43\n",
            "    0   0   0   0   0   0]\n",
            " [  0   0   3   0   0 206   0   0   0  20   0   0   0   5   0   0   0   0\n",
            "   13   0   0   0   0   0]\n",
            " [  0   0   0   0   0   0 267  20   1   0   0   0   0  19   0  41   0   0\n",
            "    0   0   0   0   0   0]\n",
            " [ 15   0   0   0  21   0  41 293  19   0   0   0   2   0   0   0   0   0\n",
            "   21  21   3   0   0   0]\n",
            " [ 17   0   0   6   0   7   0   0 162   0   0   0   0   0   0   0  24  34\n",
            "    0   0   0   0   0  38]\n",
            " [  0   0   0   0   0  14   0   0   2 209   0  20   0   0   0   0  26   0\n",
            "    0  41   0   0   0  19]\n",
            " [  0   0   0   0   0   0  16   0   0   0 166   0   0   0   0   0   0   0\n",
            "    0   0   0   0  27   0]\n",
            " [ 19   0   0   0  19   0   0   0   0   0   0 196  32  33   0   7   0  88\n",
            "    0   0   0   0   0   0]\n",
            " [ 42   0   0   0  18   0   0   0   0   0   0  24 126  17  24  21   0  18\n",
            "    1   0   0   0   0   0]\n",
            " [  0   0   0   0   0  26  10   0   0   0   0   0  14 163   0   0   0   0\n",
            "   33   0   0   0   0   0]\n",
            " [  0   0   0   0   0   0   0   0   0   0   0   4   0   0 322  19   0   0\n",
            "    0   0   0   0   2   0]\n",
            " [  0   0   0   0   0  16   0   0   0   0   0  21   0   0   5 122   0   0\n",
            "    0   0   0   0   0   0]\n",
            " [  0   0   0   0   0   0   0   0   0   0  16   0   0   0   0   0  99   0\n",
            "    0   0   9  20   0   0]\n",
            " [  1   0   0   0  21   0   0  20  33   0   0  51   0   0   0   0   0 120\n",
            "    0   0   0   0   0   0]\n",
            " [  0   0   1   0   0   0  17   0   1   0   1   0   1   0   0   0   0   0\n",
            "  145  20   0   0  62   0]\n",
            " [  0   0   0  16   0   0   0   0   0  71   1   0   0   0   0   0   0   0\n",
            "    0 165  13   0   0   0]\n",
            " [  0   0   0   0   0  20  29   0   0  27   0   0   0   0  20   0  12   0\n",
            "    0   0 150  88   0   0]\n",
            " [  0   0   0   0   0   0   0  19   2   4   0   0   0   0   0   0   1   6\n",
            "    0  39   3 132   0   0]\n",
            " [  0   0   0   0   0   0   0   0   0   0  40   0   0   0  19   0   1   2\n",
            "    2   0  11  21 171   0]\n",
            " [  0  18   0   6   0   0   0   0  43  40  21   0   0   0   0   0  22  20\n",
            "   21   0   0   0   0 141]]\n",
            "\n",
            "              precision    recall  f1-score   support\n",
            "\n",
            "           0       0.78      1.00      0.88       331\n",
            "           1       0.91      0.83      0.87       432\n",
            "           2       0.99      0.93      0.96       310\n",
            "           3       0.77      0.65      0.71       245\n",
            "           4       0.85      0.90      0.87       498\n",
            "           5       0.66      0.83      0.74       247\n",
            "           6       0.70      0.77      0.73       348\n",
            "           7       0.83      0.67      0.74       436\n",
            "           8       0.62      0.56      0.59       288\n",
            "          10       0.55      0.63      0.59       331\n",
            "          11       0.68      0.79      0.73       209\n",
            "          12       0.62      0.50      0.55       394\n",
            "          13       0.72      0.43      0.54       291\n",
            "          14       0.69      0.66      0.67       246\n",
            "          15       0.83      0.93      0.87       347\n",
            "          16       0.58      0.74      0.65       164\n",
            "          17       0.48      0.69      0.57       144\n",
            "          18       0.35      0.49      0.41       246\n",
            "          19       0.61      0.58      0.60       248\n",
            "          20       0.49      0.62      0.55       266\n",
            "          21       0.73      0.43      0.54       346\n",
            "          22       0.50      0.64      0.56       206\n",
            "          23       0.61      0.64      0.62       267\n",
            "          24       0.71      0.42      0.53       332\n",
            "\n",
            "    accuracy                           0.69      7172\n",
            "   macro avg       0.68      0.68      0.67      7172\n",
            "weighted avg       0.70      0.69      0.69      7172\n",
            "\n",
            "\n",
            "Matriz de confusión y reporte función relu variante 3 \n",
            "\n",
            "[[329   0   0   0   2   0   0   0   0   0   0   0   0   0   0   0   0   0\n",
            "    0   0   0   0   0   0]\n",
            " [  0 276   0  41  20   0   0   0   0  28   0   0   0   0   0   0  18   1\n",
            "    0   2   0  21   0  25]\n",
            " [  0   0 284   0   0   6   0   0   0   0   1   0   0   0   0   0   0   0\n",
            "   19   0   0   0   0   0]\n",
            " [  0  15   0  64   1   0   0   0   0   8   0   0   0   0   0   3  25  18\n",
            "    0  51   1   0  59   0]\n",
            " [  6   0   0   0 386  11   3   0   0   0   0  21   5   0   0   0   0  66\n",
            "    0   0   0   0   0   0]\n",
            " [  0   0   0   0   0 161   2   0   5   0   0   0   0   0  16   0   0   0\n",
            "   19   0   0  21  23   0]\n",
            " [  0   0   0   0   0  20 163  24   0   0   0  18   0  24  21  35   0   1\n",
            "   17   0  21   0   4   0]\n",
            " [ 13   0   0  11  11   0  21 272   2   0   0   0   0   0  36   3   0  21\n",
            "    1  31   1  13   0   0]\n",
            " [  0   0   0   0   0   0   0   0 117   0  20   0   0   0  13   1   1  60\n",
            "   19   0   0   0  20  37]\n",
            " [  0   0   0  19   0   0   0   2  23  79  21   0   0   0  14   0  64   0\n",
            "    0  19   1  14   0  75]\n",
            " [  0   0   0   0   0  28   0   0   0   0 179   0   0   0   0   0   0   0\n",
            "    2   0   0   0   0   0]\n",
            " [  3   0   0   0  32   0   0   0   0   0   0 140  61  60   0   5   0  93\n",
            "    0   0   0   0   0   0]\n",
            " [ 42   0   0   0  38   0  37   0   0   0   0  74  44   1   0   5   0  46\n",
            "    4   0   0   0   0   0]\n",
            " [  0   0   0   0   0  43  20   1  20   0   0   0   0 121  11  20   0   0\n",
            "   10   0   0   0   0   0]\n",
            " [  0   0   0   0   0   0   3   6   0   0   0   0   0   0 283   0   0   3\n",
            "    0   0  25   1   6  20]\n",
            " [  0   0   0   0  19   0   0   0   0   0   0   0   2   0  10 112   0  21\n",
            "    0   0   0   0   0   0]\n",
            " [  0   0   0   0   0   0   0   0   0  24   0   0   0   0   0   0  29   0\n",
            "   21   1  37  21   0  11]\n",
            " [  5   0   0   0  51   0   0   1  47   0   0  52  33   0   0   0   0  57\n",
            "    0   0   0   0   0   0]\n",
            " [  0   0   0   0   0  19  16   0   3   0   0   3  12   0   1  11   0   0\n",
            "   73  20   0   0  72  18]\n",
            " [  0   0   0   6   0   0   0   0   0  18  17   0   0   0   0   0  75   0\n",
            "    0  85  34   4   0  27]\n",
            " [  0   0   0   1   0  20   9   2   0  21  19   0   0   0  39   0  20   1\n",
            "   51   0  83  48  20  12]\n",
            " [  0   0   0   0   0   0   0   0   0  20   0   0   0   0   0   0  19  21\n",
            "   20  21  40  60   0   5]\n",
            " [  0   0   0   0   0  21   0   0  46   0  27   0   0   0  17   0   0   0\n",
            "    9   0   3   0 125  19]\n",
            " [ 16   0   0   0  21   0   0   0  27  25  11   0   0   0   1   0  42  23\n",
            "    0   0  21   0   0 145]]\n",
            "\n",
            "              precision    recall  f1-score   support\n",
            "\n",
            "           0       0.79      0.99      0.88       331\n",
            "           1       0.95      0.64      0.76       432\n",
            "           2       1.00      0.92      0.96       310\n",
            "           3       0.45      0.26      0.33       245\n",
            "           4       0.66      0.78      0.72       498\n",
            "           5       0.49      0.65      0.56       247\n",
            "           6       0.59      0.47      0.52       348\n",
            "           7       0.88      0.62      0.73       436\n",
            "           8       0.40      0.41      0.40       288\n",
            "          10       0.35      0.24      0.29       331\n",
            "          11       0.61      0.86      0.71       209\n",
            "          12       0.45      0.36      0.40       394\n",
            "          13       0.28      0.15      0.20       291\n",
            "          14       0.59      0.49      0.54       246\n",
            "          15       0.61      0.82      0.70       347\n",
            "          16       0.57      0.68      0.62       164\n",
            "          17       0.10      0.20      0.13       144\n",
            "          18       0.13      0.23      0.17       246\n",
            "          19       0.28      0.29      0.28       248\n",
            "          20       0.37      0.32      0.34       266\n",
            "          21       0.31      0.24      0.27       346\n",
            "          22       0.30      0.29      0.29       206\n",
            "          23       0.38      0.47      0.42       267\n",
            "          24       0.37      0.44      0.40       332\n",
            "\n",
            "    accuracy                           0.51      7172\n",
            "   macro avg       0.50      0.49      0.48      7172\n",
            "weighted avg       0.53      0.51      0.51      7172\n",
            "\n",
            "\n",
            "Matriz de confusión y reporte función relu variante 4 \n",
            "\n",
            "[[273   0   0   0   0   0   0   0   0   0   0   0  38   0   0   0   0  20\n",
            "    0   0   0   0   0   0]\n",
            " [  0 271   0  52   0   0   0   0   0  24   0   3   0   0   0   0  12   0\n",
            "    0  19   0  21   9  21]\n",
            " [  0   0 287   0   0  23   0   0   0   0   0   0   0   0   0   0   0   0\n",
            "    0   0   0   0   0   0]\n",
            " [  0  19   0 141   0   0   0   0   0   0   0   0   0   0   0   0  16   0\n",
            "    0  38   1   0  30   0]\n",
            " [  1  29   0   0 347   0   0   0   0   0   0   0  35   0   0   0   0  86\n",
            "    0   0   0   0   0   0]\n",
            " [  0   0   0   0   0 161   0   0   0   0  61   0   0   0   0   0   0   0\n",
            "   24   0   1   0   0   0]\n",
            " [  0   0   0   0   0   0 218  40   0   0   0  12   0   4  20  29   0   0\n",
            "   25   0   0   0   0   0]\n",
            " [  0  21   0   3   0   0  20 251  64   0  20   0   0  16   7   2   0   0\n",
            "   11   0   0   0  21   0]\n",
            " [ 13   0   0   0   0   0   0  20 173   0   0   0   0   0   0   0  37  22\n",
            "   21   0   0   0   2   0]\n",
            " [  0   0   0  20   0   1   0   0  30 126  17   0   0   0  21   0  49   0\n",
            "    0   2  38   8   0  19]\n",
            " [  0   0   0   0   0   0   1   0   0   0 167   0   0   0   0   0   0   0\n",
            "    0   0   0   0  41   0]\n",
            " [ 24   0   0   0  18  13   0   0   0   0   0 148  80   9   0  34   0  68\n",
            "    0   0   0   0   0   0]\n",
            " [ 31   0   8   0   1  13   0   0   0   0   0  23 142  21   0   3   0  31\n",
            "    0   0   0   0  18   0]\n",
            " [  0   0  21   0   0   2   0   6   0   0   0   0   6 174   0   1   0   0\n",
            "   36   0   0   0   0   0]\n",
            " [  0   0   0   0   0   0   1   7  19   0   0   0   0   0 260  42   0   0\n",
            "    0   0   1   0  17   0]\n",
            " [ 21   0   0   0   0   0   0   0  21   0   0   0   0   0   0 122   0   0\n",
            "    0   0   0   0   0   0]\n",
            " [  0   0   0   0   0  11   0   0   0   0  10   0   0   0   0   0  90   0\n",
            "    0   1  14  18   0   0]\n",
            " [  0   0   0   0  41   0   0   0  79   0   0  38  20   0   0   3   0  65\n",
            "    0   0   0   0   0   0]\n",
            " [  0   0   0  29   0   8   6  18   0   0   0   0   0   0  15   0   0   0\n",
            "   88   0  23   0  61   0]\n",
            " [  0   0   0  10   0   0   0   0   0  45  18   0   0   0   0   0  31   0\n",
            "    0 110  25   0   2  25]\n",
            " [  0   0   0   0   0  15   0   8   0  42   6   0   0   0   3   0  17   0\n",
            "   20   0 153  20  62   0]\n",
            " [  0   0   0   0   0  20   0   0   0  21  21   0   0   0   0   0   4   0\n",
            "    0  30  29  72   9   0]\n",
            " [  0   0   0   0   0  19   0   0   0   0  70   0   0   0   0   0   0   5\n",
            "    2   0   0   6 165   0]\n",
            " [ 22   2   0   0   0   0   0   0  55  20   0   0   0  21   0   0  56  22\n",
            "    0   0   5   0   0 129]]\n",
            "\n",
            "              precision    recall  f1-score   support\n",
            "\n",
            "           0       0.71      0.82      0.76       331\n",
            "           1       0.79      0.63      0.70       432\n",
            "           2       0.91      0.93      0.92       310\n",
            "           3       0.55      0.58      0.56       245\n",
            "           4       0.85      0.70      0.77       498\n",
            "           5       0.56      0.65      0.60       247\n",
            "           6       0.89      0.63      0.73       348\n",
            "           7       0.72      0.58      0.64       436\n",
            "           8       0.39      0.60      0.47       288\n",
            "          10       0.45      0.38      0.41       331\n",
            "          11       0.43      0.80      0.56       209\n",
            "          12       0.66      0.38      0.48       394\n",
            "          13       0.44      0.49      0.46       291\n",
            "          14       0.71      0.71      0.71       246\n",
            "          15       0.80      0.75      0.77       347\n",
            "          16       0.52      0.74      0.61       164\n",
            "          17       0.29      0.62      0.39       144\n",
            "          18       0.20      0.26      0.23       246\n",
            "          19       0.39      0.35      0.37       248\n",
            "          20       0.55      0.41      0.47       266\n",
            "          21       0.53      0.44      0.48       346\n",
            "          22       0.50      0.35      0.41       206\n",
            "          23       0.38      0.62      0.47       267\n",
            "          24       0.66      0.39      0.49       332\n",
            "\n",
            "    accuracy                           0.58      7172\n",
            "   macro avg       0.58      0.58      0.56      7172\n",
            "weighted avg       0.61      0.58      0.58      7172\n",
            "\n"
          ]
        }
      ]
    },
    {
      "cell_type": "markdown",
      "metadata": {
        "id": "wDmcDHOtMlZG"
      },
      "source": [
        "### Se imprimen los accuracy de los modelos\n",
        "\n",
        "---\n",
        "\n"
      ]
    },
    {
      "cell_type": "code",
      "metadata": {
        "colab": {
          "base_uri": "https://localhost:8080/"
        },
        "id": "2xK1V-r0zHHH",
        "outputId": "339a44cd-5e4f-4a8f-93b6-bc74856885b7"
      },
      "source": [
        "print('\\n Accuracy función relu variante 1: {}%'.format(round(accuracy_score(y_test, y_pred), 2)*100))\n",
        "print('\\n Accuracy función relu variante 2: {}%'.format(round(accuracy_score(y_test, y_pred1), 2)*100))\n",
        "print('\\n Accuracy función relu variante 3: {}%'.format(round(accuracy_score(y_test, y_pred2), 2)*100))\n",
        "print('\\n Accuracy función relu variante 4: {}%'.format(round(accuracy_score(y_test, y_pred3), 2)*100))"
      ],
      "execution_count": null,
      "outputs": [
        {
          "output_type": "stream",
          "name": "stdout",
          "text": [
            "\n",
            " Accuracy función relu variante 1: 69.0%\n",
            "\n",
            " Accuracy función relu variante 2: 69.0%\n",
            "\n",
            " Accuracy función relu variante 3: 51.0%\n",
            "\n",
            " Accuracy función relu variante 4: 57.99999999999999%\n"
          ]
        }
      ]
    },
    {
      "cell_type": "markdown",
      "metadata": {
        "id": "DnJud0auM28l"
      },
      "source": [
        "### Se plotean las curvas de error "
      ]
    },
    {
      "cell_type": "code",
      "metadata": {
        "colab": {
          "base_uri": "https://localhost:8080/",
          "height": 313
        },
        "id": "8Q5dO0KB5B14",
        "outputId": "51004f1a-1633-463a-c061-b84f8cebb80c"
      },
      "source": [
        "plt.plot(clf.loss_curve_)\n",
        "plt.title(\"Curva de error función relu: variante 1\")\n",
        "plt.xlabel(\"ITERACIONES\")\n",
        "plt.ylabel(\"ERROR\")"
      ],
      "execution_count": null,
      "outputs": [
        {
          "output_type": "execute_result",
          "data": {
            "text/plain": [
              "Text(0, 0.5, 'ERROR')"
            ]
          },
          "metadata": {},
          "execution_count": 170
        },
        {
          "output_type": "display_data",
          "data": {
            "image/png": "[encoded data removed]",
            "text/plain": [
              "<Figure size 432x288 with 1 Axes>"
            ]
          },
          "metadata": {
            "needs_background": "light"
          }
        }
      ]
    },
    {
      "cell_type": "code",
      "metadata": {
        "colab": {
          "base_uri": "https://localhost:8080/",
          "height": 313
        },
        "id": "1lN9ViXnQES-",
        "outputId": "78f9f00e-0aeb-4ddc-c4d2-fa53d6d10db1"
      },
      "source": [
        "plt.plot(clf1.loss_curve_)\n",
        "plt.title(\"Curva de error función relu: variante 2\")\n",
        "plt.xlabel(\"ITERACIONES\")\n",
        "plt.ylabel(\"ERROR\")"
      ],
      "execution_count": null,
      "outputs": [
        {
          "output_type": "execute_result",
          "data": {
            "text/plain": [
              "Text(0, 0.5, 'ERROR')"
            ]
          },
          "metadata": {},
          "execution_count": 171
        },
        {
          "output_type": "display_data",
          "data": {
            "image/png": "[encoded data removed]",
            "text/plain": [
              "<Figure size 432x288 with 1 Axes>"
            ]
          },
          "metadata": {
            "needs_background": "light"
          }
        }
      ]
    },
    {
      "cell_type": "code",
      "metadata": {
        "colab": {
          "base_uri": "https://localhost:8080/",
          "height": 313
        },
        "id": "VhBE6AHmQHUG",
        "outputId": "01577b8c-1511-4149-b88b-89bcfdb7a78a"
      },
      "source": [
        "plt.plot(clf2.loss_curve_)\n",
        "plt.title(\"Curva de error función relu: variante 3\")\n",
        "plt.xlabel(\"ITERACIONES\")\n",
        "plt.ylabel(\"ERROR\")"
      ],
      "execution_count": null,
      "outputs": [
        {
          "output_type": "execute_result",
          "data": {
            "text/plain": [
              "Text(0, 0.5, 'ERROR')"
            ]
          },
          "metadata": {},
          "execution_count": 172
        },
        {
          "output_type": "display_data",
          "data": {
            "image/png": "[encoded data removed]",
            "text/plain": [
              "<Figure size 432x288 with 1 Axes>"
            ]
          },
          "metadata": {
            "needs_background": "light"
          }
        }
      ]
    },
    {
      "cell_type": "code",
      "metadata": {
        "colab": {
          "base_uri": "https://localhost:8080/",
          "height": 313
        },
        "id": "tGyZPaPzQJM7",
        "outputId": "ef36524b-5328-4562-941c-bfec5d622781"
      },
      "source": [
        "plt.plot(clf3.loss_curve_)\n",
        "plt.title(\"Curva de error función relu: variante 4\")\n",
        "plt.xlabel(\"ITERACIONES\")\n",
        "plt.ylabel(\"ERROR\")"
      ],
      "execution_count": null,
      "outputs": [
        {
          "output_type": "execute_result",
          "data": {
            "text/plain": [
              "Text(0, 0.5, 'ERROR')"
            ]
          },
          "metadata": {},
          "execution_count": 173
        },
        {
          "output_type": "display_data",
          "data": {
            "image/png": "[encoded data removed]",
            "text/plain": [
              "<Figure size 432x288 with 1 Axes>"
            ]
          },
          "metadata": {
            "needs_background": "light"
          }
        }
      ]
    },
    {
      "cell_type": "markdown",
      "metadata": {
        "id": "MT6_s3rm_y73"
      },
      "source": [
        "## **Función de activación tangencial hiperbólica**"
      ]
    },
    {
      "cell_type": "markdown",
      "metadata": {
        "id": "frR0q9-zMCrU"
      },
      "source": [
        "### Se definen los modelos "
      ]
    },
    {
      "cell_type": "code",
      "metadata": {
        "id": "Xi-DqoE7_9Wx"
      },
      "source": [
        "#Tres capas internas de 50 neuronas cada una\n",
        "#optimizador de la estocástica basada en gradientes propuesto por Kingma, Diederik y Jimmy Ba \n",
        "clf = MLPClassifier(\n",
        "    hidden_layer_sizes=(50, 50, 50),\n",
        "    solver=\"adam\",\n",
        "    max_iter=100,\n",
        "    activation = 'tanh',\n",
        "    #verbose=True\n",
        "    )\n",
        "\n",
        "#Tres capas internas de 50 neuronas cada una \n",
        "# Estocástica de gradiente descendiente\n",
        "clf1 = MLPClassifier(\n",
        "    hidden_layer_sizes=(50, 50, 50),\n",
        "    solver=\"sgd\",\n",
        "    max_iter=100,\n",
        "    activation = 'tanh',\n",
        "    #verbose=True\n",
        "    )\n",
        "\n",
        "#Tres capas internas de 20 neuronas cada una\n",
        "#optimizador de la estocástica basada en gradientes propuesto por Kingma, Diederik y Jimmy Ba \n",
        "clf2 = MLPClassifier(\n",
        "    hidden_layer_sizes=(20, 20, 20),\n",
        "    solver=\"adam\",\n",
        "    max_iter=100,\n",
        "    activation = 'tanh',\n",
        "    #verbose=True\n",
        "    )\n",
        "\n",
        "#Tres capas internas de 20 neuronas cada una \n",
        "# Estocástica de gradiente descendiente\n",
        "clf3 = MLPClassifier(\n",
        "    hidden_layer_sizes=(20, 20, 20),\n",
        "    solver=\"sgd\",\n",
        "    max_iter=100,\n",
        "    activation = 'tanh',\n",
        "    #verbose=True\n",
        "    )"
      ],
      "execution_count": null,
      "outputs": []
    },
    {
      "cell_type": "markdown",
      "metadata": {
        "id": "IglOz8owX4Zh"
      },
      "source": [
        "### Se entrenan los modelos"
      ]
    },
    {
      "cell_type": "code",
      "metadata": {
        "colab": {
          "base_uri": "https://localhost:8080/"
        },
        "id": "Xs9btwIqAM_y",
        "outputId": "3aeba880-5fb4-4c28-be6a-a2868390c826"
      },
      "source": [
        "#Se entrena al modelo\n",
        "clf.fit(x_train, y_train)\n",
        "clf1.fit(x_train, y_train)\n",
        "clf2.fit(x_train, y_train)\n",
        "clf3.fit(x_train, y_train)"
      ],
      "execution_count": null,
      "outputs": [
        {
          "output_type": "stream",
          "name": "stderr",
          "text": [
            "/usr/local/lib/python3.7/dist-packages/sklearn/neural_network/_multilayer_perceptron.py:696: ConvergenceWarning: Stochastic Optimizer: Maximum iterations (100) reached and the optimization hasn't converged yet.\n",
            "  ConvergenceWarning,\n",
            "/usr/local/lib/python3.7/dist-packages/sklearn/neural_network/_multilayer_perceptron.py:696: ConvergenceWarning: Stochastic Optimizer: Maximum iterations (100) reached and the optimization hasn't converged yet.\n",
            "  ConvergenceWarning,\n",
            "/usr/local/lib/python3.7/dist-packages/sklearn/neural_network/_multilayer_perceptron.py:696: ConvergenceWarning: Stochastic Optimizer: Maximum iterations (100) reached and the optimization hasn't converged yet.\n",
            "  ConvergenceWarning,\n"
          ]
        },
        {
          "output_type": "execute_result",
          "data": {
            "text/plain": [
              "MLPClassifier(activation='tanh', hidden_layer_sizes=(20, 20, 20), max_iter=100,\n",
              "              solver='sgd')"
            ]
          },
          "metadata": {},
          "execution_count": 175
        }
      ]
    },
    {
      "cell_type": "markdown",
      "metadata": {
        "id": "eAJ3Jm36MSj1"
      },
      "source": [
        "### Se generan la predicciones con los datos de testing"
      ]
    },
    {
      "cell_type": "code",
      "metadata": {
        "id": "2qilJxXEAT2J"
      },
      "source": [
        "y_pred = clf.predict(x_test)\n",
        "y_pred1 = clf1.predict(x_test)\n",
        "y_pred2 = clf2.predict(x_test)\n",
        "y_pred3 = clf3.predict(x_test)"
      ],
      "execution_count": null,
      "outputs": []
    },
    {
      "cell_type": "markdown",
      "metadata": {
        "id": "OlkoDSo-ZIX4"
      },
      "source": [
        "### Se imprimen la matrices de confusión y los reportes de accuracy"
      ]
    },
    {
      "cell_type": "code",
      "metadata": {
        "colab": {
          "base_uri": "https://localhost:8080/"
        },
        "id": "qdVv9EmBAVUd",
        "outputId": "16678a9c-1f3a-49c1-e320-a62b80525a1d"
      },
      "source": [
        "print(\"Matriz de confusión y reporte función tanh variante 1 \\n\")\n",
        "print(confusion_matrix(y_test,y_pred))\n",
        "print()\n",
        "print(classification_report(y_test,y_pred))\n",
        "print(\"\\nMatriz de confusión y reporte función tanh variante 2 \\n\")\n",
        "print(confusion_matrix(y_test,y_pred1))\n",
        "print()\n",
        "print(classification_report(y_test,y_pred1))\n",
        "print(\"\\nMatriz de confusión y reporte función tanh variante 3 \\n\")\n",
        "print(confusion_matrix(y_test,y_pred2))\n",
        "print()\n",
        "print(classification_report(y_test,y_pred2))\n",
        "print(\"\\nMatriz de confusión y reporte función tanh variante 4 \\n\")\n",
        "print(confusion_matrix(y_test,y_pred3))\n",
        "print()\n",
        "print(classification_report(y_test,y_pred3))"
      ],
      "execution_count": null,
      "outputs": [
        {
          "output_type": "stream",
          "name": "stdout",
          "text": [
            "Matriz de confusión y reporte función tanh variante 1 \n",
            "\n",
            "[[331   0   0   0   0   0   0   0   0   0   0   0   0   0   0   0   0   0\n",
            "    0   0   0   0   0   0]\n",
            " [  0 344   0   0   0   0   0   0   0  78   0   0   0   0   0   0   1   0\n",
            "    0   0   0   9   0   0]\n",
            " [  0   0 288   0   0  21   0   0   0   0   0   0   0   0   0   0   0   0\n",
            "    1   0   0   0   0   0]\n",
            " [  0   0   0 193  19   0   0   0   0   0  17   0   0   0   0   0  15   0\n",
            "    0   0   1   0   0   0]\n",
            " [  1   0   0   0 461   0   0   0   0   0   0   0  15   0   0   0   0  21\n",
            "    0   0   0   0   0   0]\n",
            " [  0   0   3   0   0 205   0   0   0  21   0   0   0   0   0   0   0   0\n",
            "   18   0   0   0   0   0]\n",
            " [  0   0   0   0   0   0 255   0  12   0   0  16   0   0  21  25   0   0\n",
            "   19   0   0   0   0   0]\n",
            " [  0  21   0   0   0   0  29 353   0   0   0   0   0  33   0   0   0   0\n",
            "    0   0   0   0   0   0]\n",
            " [  0   0   0   0   0   4   0   0 184   0   0   0   7   0   0   0  36   1\n",
            "    0   0   1   0   0  55]\n",
            " [  0   0   0   0   0   0   0   0  17 224   0   0   0   0   0   0  22   0\n",
            "    0  12  11  21   0  24]\n",
            " [  0   0  36   0   0   0  21   0   0   0 144   0   0   0   0   0   0   0\n",
            "    0   0   0   0   8   0]\n",
            " [  8   0   0   0  23   0   0   0   4   0   0 262  30   1   0   0   0  66\n",
            "    0   0   0   0   0   0]\n",
            " [ 53   0   0   0   0   0   0   0   8   0   0  20 147   0  21  21   0   0\n",
            "   21   0   0   0   0   0]\n",
            " [  0   0   0   0   0  49   0   1   0   0   0   0  21 156   0  11   0   0\n",
            "    8   0   0   0   0   0]\n",
            " [  0   0   0   0   0   0  21   0  32   0   0   0   0   0 285   5   0   4\n",
            "    0   0   0   0   0   0]\n",
            " [  0   0   0   0   0  21   0   0   0   0   0  21   0   0   0 122   0   0\n",
            "    0   0   0   0   0   0]\n",
            " [  0   0   0   0   0   0  15   0   0  39   0   0   0   0   0   0  62   0\n",
            "    0   5  21   2   0   0]\n",
            " [  0   0   0   0  21   0   0  20  21   0   0  41   0   0   0   0   0 143\n",
            "    0   0   0   0   0   0]\n",
            " [  0   0   0   0   0   4   1  20   0   0   0   0   0   0   0   1   0   0\n",
            "  142   0   0  18  62   0]\n",
            " [  0   0   0   1   0   0   0   0   0  52   0   0   0   0   0   0  19   0\n",
            "    0 140  39   0   0  15]\n",
            " [  0   0   0   0   0  20  41   0   0  18   0   0   0   0   0   0   0   0\n",
            "   19   0 159  69  20   0]\n",
            " [  0   0   0   0   0   0   0  17   0   0   0   0   0   0   0   0  20   0\n",
            "    4  20   8 137   0   0]\n",
            " [  0   0   0   0   0   0   0   0   0   0   0   0   0   0  21   0   0  21\n",
            "    0   0   0   0 225   0]\n",
            " [  0   2   0   0   0   0   0   0  42  12  21   0   0   0   0   0  20  19\n",
            "   20   0   7   0   0 189]]\n",
            "\n",
            "              precision    recall  f1-score   support\n",
            "\n",
            "           0       0.84      1.00      0.91       331\n",
            "           1       0.94      0.80      0.86       432\n",
            "           2       0.88      0.93      0.90       310\n",
            "           3       0.99      0.79      0.88       245\n",
            "           4       0.88      0.93      0.90       498\n",
            "           5       0.63      0.83      0.72       247\n",
            "           6       0.67      0.73      0.70       348\n",
            "           7       0.86      0.81      0.83       436\n",
            "           8       0.57      0.64      0.61       288\n",
            "          10       0.50      0.68      0.58       331\n",
            "          11       0.79      0.69      0.74       209\n",
            "          12       0.73      0.66      0.69       394\n",
            "          13       0.67      0.51      0.58       291\n",
            "          14       0.82      0.63      0.72       246\n",
            "          15       0.82      0.82      0.82       347\n",
            "          16       0.66      0.74      0.70       164\n",
            "          17       0.32      0.43      0.37       144\n",
            "          18       0.52      0.58      0.55       246\n",
            "          19       0.56      0.57      0.57       248\n",
            "          20       0.79      0.53      0.63       266\n",
            "          21       0.64      0.46      0.54       346\n",
            "          22       0.54      0.67      0.59       206\n",
            "          23       0.71      0.84      0.77       267\n",
            "          24       0.67      0.57      0.61       332\n",
            "\n",
            "    accuracy                           0.72      7172\n",
            "   macro avg       0.71      0.70      0.70      7172\n",
            "weighted avg       0.73      0.72      0.72      7172\n",
            "\n",
            "\n",
            "Matriz de confusión y reporte función tanh variante 2 \n",
            "\n",
            "[[331   0   0   0   0   0   0   0   0   0   0   0   0   0   0   0   0   0\n",
            "    0   0   0   0   0   0]\n",
            " [  0 321   0  19   0   0   0   0   4   0   0   0   0   0   0   0  18   5\n",
            "    0  40   0  25   0   0]\n",
            " [  0   0 268   0   0  21   0   0   0   0   0   0   0   0   0   0   0   0\n",
            "    0   0   0   0  21   0]\n",
            " [  0   0   0 197   0   0   0   0   0   6   0   0   0   0   0   0   3   0\n",
            "    0   4  15   0  20   0]\n",
            " [  0   0   0   0 435   0   0   0   0   0   0   8   0   0   0   0   0  55\n",
            "    0   0   0   0   0   0]\n",
            " [  0   0   0   0   0 225   0   0   4   0   0   0   0   0   0   0   0   0\n",
            "    0   0   0   0   0  18]\n",
            " [  0   0   0   0   0   0 264  19   0   0   0  21   0   0   0  18   0   0\n",
            "    2   0   0   0   2  22]\n",
            " [  0   0   0   0   3   0  41 342   0   0   8   0  18   0   0   0   0   0\n",
            "   21   3   0   0   0   0]\n",
            " [ 20   0   0   0   0   0   0   0 205   0   0   0   0   0   0   0  21   0\n",
            "    0   0   0   0   0  42]\n",
            " [  0   0   0   0   0  10   0   0  21 167   0   0   0   0   5   0  78   0\n",
            "    0  20   0   0   0  30]\n",
            " [  0   0   0   0   0   0   0   0   0   0 185   0   0   0   0   0   0   0\n",
            "    0   0   0   0  24   0]\n",
            " [ 37   0   0   0  42   0   0   7   2   0   0 166  34   0   0   0   0 106\n",
            "    0   0   0   0   0   0]\n",
            " [ 59   0   0   0  22   0   0   0   0   0   0  23 125   0   0  21   0  20\n",
            "   21   0   0   0   0   0]\n",
            " [  0   0  13   0   0  49  16   1   0   0   0   0   1 127   0   0   0   0\n",
            "   39   0   0   0   0   0]\n",
            " [  0   0   0   0   0   0   0   0   1   0   0   0   0   0 330  16   0   0\n",
            "    0   0   0   0   0   0]\n",
            " [  0   0   0   0   0  21   0   0   0   0   0  21   0   0   0 122   0   0\n",
            "    0   0   0   0   0   0]\n",
            " [  0   0   0   0   0   0   0   0   0   0  20   0   0   0   6   0  68   0\n",
            "   15  25  10   0   0   0]\n",
            " [  0   0   0   0  22   0   0  20  27   0   0  41  20   0   0   0   0 116\n",
            "    0   0   0   0   0   0]\n",
            " [  0   0   0   0   0   0   0   0   1   0   1   0   0  18   0   0   0   0\n",
            "  130  20  20   0  58   0]\n",
            " [  0   0   0  46   0   0   0   0   0  53   3   0   0   0   0   0  31   0\n",
            "    0 123   0   0   0  10]\n",
            " [  0   0   0   0   0  20  13   0   0  21   7   0   0   0   0   0  20   0\n",
            "    5  11 203  46   0   0]\n",
            " [  0   0   0   0   0   0   0   0   0   0   0   0   0   0   0   0  20   0\n",
            "    0  20  26 140   0   0]\n",
            " [  0   0   0   0   3   2   0   0   0   0  25   0   0   0   9   0   0   2\n",
            "    0   0   0  43 183   0]\n",
            " [  0   0   0   0   0   0   0   0  62   0  26   0   0   0   0   0  33  20\n",
            "   21   0   0   0   0 170]]\n",
            "\n",
            "              precision    recall  f1-score   support\n",
            "\n",
            "           0       0.74      1.00      0.85       331\n",
            "           1       1.00      0.74      0.85       432\n",
            "           2       0.95      0.86      0.91       310\n",
            "           3       0.75      0.80      0.78       245\n",
            "           4       0.83      0.87      0.85       498\n",
            "           5       0.65      0.91      0.76       247\n",
            "           6       0.79      0.76      0.77       348\n",
            "           7       0.88      0.78      0.83       436\n",
            "           8       0.63      0.71      0.67       288\n",
            "          10       0.68      0.50      0.58       331\n",
            "          11       0.67      0.89      0.76       209\n",
            "          12       0.59      0.42      0.49       394\n",
            "          13       0.63      0.43      0.51       291\n",
            "          14       0.88      0.52      0.65       246\n",
            "          15       0.94      0.95      0.95       347\n",
            "          16       0.69      0.74      0.72       164\n",
            "          17       0.23      0.47      0.31       144\n",
            "          18       0.36      0.47      0.41       246\n",
            "          19       0.51      0.52      0.52       248\n",
            "          20       0.46      0.46      0.46       266\n",
            "          21       0.74      0.59      0.65       346\n",
            "          22       0.55      0.68      0.61       206\n",
            "          23       0.59      0.69      0.64       267\n",
            "          24       0.58      0.51      0.54       332\n",
            "\n",
            "    accuracy                           0.69      7172\n",
            "   macro avg       0.68      0.68      0.67      7172\n",
            "weighted avg       0.71      0.69      0.69      7172\n",
            "\n",
            "\n",
            "Matriz de confusión y reporte función tanh variante 3 \n",
            "\n",
            "[[331   0   0   0   0   0   0   0   0   0   0   0   0   0   0   0   0   0\n",
            "    0   0   0   0   0   0]\n",
            " [  0 349   0  16   4   0   0   0   0   0   0   0   0   0   0   0   0   0\n",
            "    0  18   0  22  23   0]\n",
            " [  0   0 310   0   0   0   0   0   0   0   0   0   0   0   0   0   0   0\n",
            "    0   0   0   0   0   0]\n",
            " [  0   5   0 215   0   0   0   0   0   0   8   0   0   0   0   0   5   0\n",
            "    0   0   0   0  12   0]\n",
            " [  0   0   0   0 456   0   0   0   0   0   0   0   0   0   0   0   0  42\n",
            "    0   0   0   0   0   0]\n",
            " [  0   0  20   0   0 207   2   0   0  17   0   0   0   0   0   0   0   0\n",
            "    1   0   0   0   0   0]\n",
            " [  0   0   0   0   0   0 221  39   0   0   0   0   0  17   0  36   0   0\n",
            "    9   0   1   0  25   0]\n",
            " [  0  21   1   0   0   0  39 282   0   0   0   0   0   7   0  29   0  21\n",
            "    3   0  14   0  19   0]\n",
            " [ 20   0   0   0   0   0   0   0 135   0   0   0   1   0   0  14  20  23\n",
            "    0   0   0   0  13  62]\n",
            " [  0   0   0  20   0  41   0   0  19 117   1   0   0   0  29   0  62   0\n",
            "    0  21   0   1   0  20]\n",
            " [  0   0   0   0   0   0   2   0   0   0 179   0   0   0   0   0   0   0\n",
            "    0   0  26   0   2   0]\n",
            " [ 61   0   0   0  23   0   0   0   0   0   0 158  26   0   0  37   0  89\n",
            "    0   0   0   0   0   0]\n",
            " [ 26   0   0   0  13   0   0   0   7   0   0  68 113   0   0  36   0   7\n",
            "   21   0   0   0   0   0]\n",
            " [  0   0  21   0   1   3  20   0   0   0   0   0  20 180   0   0   0   0\n",
            "    1   0   0   0   0   0]\n",
            " [  0   0   0   0   0   0  21   0   0   0   0   0   0   0 273  50   0   0\n",
            "    0   0   0   1   2   0]\n",
            " [  0   0   0   0   0  20   0   9   0   0   0  21   0   0   0 114   0   0\n",
            "    0   0   0   0   0   0]\n",
            " [  0   0   0   0   0   0   0   0   0   0  21   0   0   0   0   0  74   0\n",
            "    0  30   0  19   0   0]\n",
            " [ 18   0   0   0  23   0   0   0  49   0   0  41  22   0   1   5   0  76\n",
            "    0   0   0   0   0  11]\n",
            " [  0   0  10   0   0   0  35  21  21   0   0   0   0   0   0   0   0   0\n",
            "   91   5   0   0  65   0]\n",
            " [  0  14   0   5   0   0   0   0   0  61   0   0   0   0   0   0  29   0\n",
            "    0 117  40   0   0   0]\n",
            " [  0   0   0   0   0  20   9   0   0  21  20   0   0   0   0   0   0   0\n",
            "    0  18 173  84   1   0]\n",
            " [  0   0   0   0   0   9   0   0   0  33   0   0   0   0   0   0   8   0\n",
            "    0   8  12 127   0   9]\n",
            " [  0   0   0   0   0  10   0   0  21  10  38   0   0   0   0   0   0   0\n",
            "    0   0   0  19 169   0]\n",
            " [  1   0   0   0   0   0   0   0  15  15  42   0   0  21   0   0  20  22\n",
            "    0   4   0   0   0 192]]\n",
            "\n",
            "              precision    recall  f1-score   support\n",
            "\n",
            "           0       0.72      1.00      0.84       331\n",
            "           1       0.90      0.81      0.85       432\n",
            "           2       0.86      1.00      0.92       310\n",
            "           3       0.84      0.88      0.86       245\n",
            "           4       0.88      0.92      0.90       498\n",
            "           5       0.67      0.84      0.74       247\n",
            "           6       0.63      0.64      0.63       348\n",
            "           7       0.80      0.65      0.72       436\n",
            "           8       0.51      0.47      0.49       288\n",
            "          10       0.43      0.35      0.39       331\n",
            "          11       0.58      0.86      0.69       209\n",
            "          12       0.55      0.40      0.46       394\n",
            "          13       0.62      0.39      0.48       291\n",
            "          14       0.80      0.73      0.76       246\n",
            "          15       0.90      0.79      0.84       347\n",
            "          16       0.36      0.70      0.47       164\n",
            "          17       0.34      0.51      0.41       144\n",
            "          18       0.27      0.31      0.29       246\n",
            "          19       0.72      0.37      0.49       248\n",
            "          20       0.53      0.44      0.48       266\n",
            "          21       0.65      0.50      0.57       346\n",
            "          22       0.47      0.62      0.53       206\n",
            "          23       0.51      0.63      0.57       267\n",
            "          24       0.65      0.58      0.61       332\n",
            "\n",
            "    accuracy                           0.65      7172\n",
            "   macro avg       0.63      0.64      0.62      7172\n",
            "weighted avg       0.66      0.65      0.65      7172\n",
            "\n",
            "\n",
            "Matriz de confusión y reporte función tanh variante 4 \n",
            "\n",
            "[[310   0   0   0   0   0   0   0   0   0   0   0  21   0   0   0   0   0\n",
            "    0   0   0   0   0   0]\n",
            " [  0 350   0   0   0   0   0   0   0  36   0   0   0   0   3   0   4  21\n",
            "    0   0   0  18   0   0]\n",
            " [  0   0 268   0   0  21   0   0   0   0   0   0   0  20   0   0   0   0\n",
            "    0   0   0   0   1   0]\n",
            " [  0   0   0 169   0   0   0   0   0   3   0   0  19   0   3   0   2   0\n",
            "    0   8  24   0  17   0]\n",
            " [  0   1   0   0 452   0   0   0   0   0   0   1   0   0   0   0   0  44\n",
            "    0   0   0   0   0   0]\n",
            " [  0   0   0   1   0 215   3   8   0   0   0   0   0   0   0   0   0   0\n",
            "   13   7   0   0   0   0]\n",
            " [  0   0   0   0   0   0 249   6   0   0   0   0   0  13  59  15   0   0\n",
            "    6   0   0   0   0   0]\n",
            " [  0   0  13   0   0   1  20 296   0  21   0   0  20   1  21  36   0   0\n",
            "    7   0   0   0   0   0]\n",
            " [  2   6   0   0   0   0   0   0 124   0   0   0  39   0  12   0  33  11\n",
            "    0   0   0   7   0  54]\n",
            " [  0   0   0   0   0  17   0   0  37 183   0   0   0   0  21   0   5   4\n",
            "    0  22   0  42   0   0]\n",
            " [  0   0   0   0   0  36  41   0   0   0 114   0   0   0   0   0   0   0\n",
            "    1   0   4   0  13   0]\n",
            " [ 32   0   0   0   6   0   0   0   0   0   0 165 119  25   0   0   0  47\n",
            "    0   0   0   0   0   0]\n",
            " [ 59   2   0   0  19   0   0   0   0   0   0   3 145   0   7   0   0  14\n",
            "   21   0   0   0  21   0]\n",
            " [ 21   0   0   0   0   1  14   3   0   0   0   0   0 149  10   2   0   0\n",
            "   46   0   0   0   0   0]\n",
            " [  0   0   0   0   0   0   0   0   0  41   0   0   0   0 306   0   0   0\n",
            "    0   0   0   0   0   0]\n",
            " [ 21   0   0   0   0   0   0   0   0   0   0   0  21   0   0 122   0   0\n",
            "    0   0   0   0   0   0]\n",
            " [  0   0   0   0   0   0   0   0   0  34  21   0   0   0   0   0  61   0\n",
            "    0  28   0   0   0   0]\n",
            " [  3   0   0   0  21   0   0   0  57   0   0  41  20   0  22   0   0  82\n",
            "    0   0   0   0   0   0]\n",
            " [  0   0   0   0   0   0  59   0   0  40   0   0   0   0   2   0   0   0\n",
            "   84   0  19   4  38   2]\n",
            " [  0   0   0  20   0   0  11   0   0  67   4   0   0   0   0   0  23   0\n",
            "    0  83  16  39   2   1]\n",
            " [  0   0   0   4   0   5   1   0   0  57  15   0   0   0   0   0   6   0\n",
            "    0  19 169  56  14   0]\n",
            " [  0   0   0   1   0   0   0   0   0  13   0   0   0   0   0   0  40   0\n",
            "    0   0  21 110  21   0]\n",
            " [  0   0   0   0   0   0   0   0  31   8   0   0   0   0   0   0   5   8\n",
            "   18   0   0  56 141   0]\n",
            " [  0   0   0   0   0  21   0   0  21   1   0   0  21   0   0   0   0  12\n",
            "    0  18   0  96   0 142]]\n",
            "\n",
            "              precision    recall  f1-score   support\n",
            "\n",
            "           0       0.69      0.94      0.80       331\n",
            "           1       0.97      0.81      0.88       432\n",
            "           2       0.95      0.86      0.91       310\n",
            "           3       0.87      0.69      0.77       245\n",
            "           4       0.91      0.91      0.91       498\n",
            "           5       0.68      0.87      0.76       247\n",
            "           6       0.63      0.72      0.67       348\n",
            "           7       0.95      0.68      0.79       436\n",
            "           8       0.46      0.43      0.44       288\n",
            "          10       0.36      0.55      0.44       331\n",
            "          11       0.74      0.55      0.63       209\n",
            "          12       0.79      0.42      0.55       394\n",
            "          13       0.34      0.50      0.41       291\n",
            "          14       0.72      0.61      0.66       246\n",
            "          15       0.66      0.88      0.75       347\n",
            "          16       0.70      0.74      0.72       164\n",
            "          17       0.34      0.42      0.38       144\n",
            "          18       0.34      0.33      0.34       246\n",
            "          19       0.43      0.34      0.38       248\n",
            "          20       0.45      0.31      0.37       266\n",
            "          21       0.67      0.49      0.56       346\n",
            "          22       0.26      0.53      0.35       206\n",
            "          23       0.53      0.53      0.53       267\n",
            "          24       0.71      0.43      0.53       332\n",
            "\n",
            "    accuracy                           0.63      7172\n",
            "   macro avg       0.63      0.61      0.60      7172\n",
            "weighted avg       0.66      0.63      0.63      7172\n",
            "\n"
          ]
        }
      ]
    },
    {
      "cell_type": "markdown",
      "metadata": {
        "id": "4NKLZGVFZT0K"
      },
      "source": [
        "### Se imprimen los accuracy de los modelos"
      ]
    },
    {
      "cell_type": "code",
      "metadata": {
        "colab": {
          "base_uri": "https://localhost:8080/"
        },
        "id": "_fWICpsWAYuU",
        "outputId": "4618d9ee-3105-4661-dc36-91309b925d79"
      },
      "source": [
        "print('\\n Accuracy función tanh variante 1: {}%'.format(round(accuracy_score(y_test, y_pred), 2)*100))\n",
        "print('\\n Accuracy función tanh variante 2: {}%'.format(round(accuracy_score(y_test, y_pred1), 2)*100))\n",
        "print('\\n Accuracy función tanh variante 3: {}%'.format(round(accuracy_score(y_test, y_pred2), 2)*100))\n",
        "print('\\n Accuracy función tanh variante 4: {}%'.format(round(accuracy_score(y_test, y_pred3), 2)*100))"
      ],
      "execution_count": null,
      "outputs": [
        {
          "output_type": "stream",
          "name": "stdout",
          "text": [
            "\n",
            " Accuracy función tanh variante 1: 72.0%\n",
            "\n",
            " Accuracy función tanh variante 2: 69.0%\n",
            "\n",
            " Accuracy función tanh variante 3: 65.0%\n",
            "\n",
            " Accuracy función tanh variante 4: 63.0%\n"
          ]
        }
      ]
    },
    {
      "cell_type": "markdown",
      "metadata": {
        "id": "PEc6lZvAZmqF"
      },
      "source": [
        "### Se plotean las curvas de error"
      ]
    },
    {
      "cell_type": "code",
      "metadata": {
        "colab": {
          "base_uri": "https://localhost:8080/",
          "height": 313
        },
        "id": "xilycTGmAcu3",
        "outputId": "2a78d291-c034-43a9-f284-8dbd5898701c"
      },
      "source": [
        "plt.plot(clf.loss_curve_)\n",
        "plt.title(\"Curva de error función tanh: variante 1\")\n",
        "plt.xlabel(\"ITERACIONES\")\n",
        "plt.ylabel(\"ERROR\")"
      ],
      "execution_count": null,
      "outputs": [
        {
          "output_type": "execute_result",
          "data": {
            "text/plain": [
              "Text(0, 0.5, 'ERROR')"
            ]
          },
          "metadata": {},
          "execution_count": 179
        },
        {
          "output_type": "display_data",
          "data": {
            "image/png": "[encoded data removed]",
            "text/plain": [
              "<Figure size 432x288 with 1 Axes>"
            ]
          },
          "metadata": {
            "needs_background": "light"
          }
        }
      ]
    },
    {
      "cell_type": "code",
      "metadata": {
        "colab": {
          "base_uri": "https://localhost:8080/",
          "height": 313
        },
        "id": "6eGH_Ah5ZuaW",
        "outputId": "f6362558-ef97-435c-e895-342ede30aa74"
      },
      "source": [
        "plt.plot(clf1.loss_curve_)\n",
        "plt.title(\"Curva de error función tanh: variante 2\")\n",
        "plt.xlabel(\"ITERACIONES\")\n",
        "plt.ylabel(\"ERROR\")"
      ],
      "execution_count": null,
      "outputs": [
        {
          "output_type": "execute_result",
          "data": {
            "text/plain": [
              "Text(0, 0.5, 'ERROR')"
            ]
          },
          "metadata": {},
          "execution_count": 180
        },
        {
          "output_type": "display_data",
          "data": {
            "image/png": "[encoded data removed]",
            "text/plain": [
              "<Figure size 432x288 with 1 Axes>"
            ]
          },
          "metadata": {
            "needs_background": "light"
          }
        }
      ]
    },
    {
      "cell_type": "code",
      "metadata": {
        "colab": {
          "base_uri": "https://localhost:8080/",
          "height": 313
        },
        "id": "k8iiGVH6ZzXA",
        "outputId": "cc07f0c6-86d1-4e1c-8c70-20a6f8349543"
      },
      "source": [
        "plt.plot(clf2.loss_curve_)\n",
        "plt.title(\"Curva de error función tanh: variante 3\")\n",
        "plt.xlabel(\"ITERACIONES\")\n",
        "plt.ylabel(\"ERROR\")"
      ],
      "execution_count": null,
      "outputs": [
        {
          "output_type": "execute_result",
          "data": {
            "text/plain": [
              "Text(0, 0.5, 'ERROR')"
            ]
          },
          "metadata": {},
          "execution_count": 181
        },
        {
          "output_type": "display_data",
          "data": {
            "image/png": "[encoded data removed]",
            "text/plain": [
              "<Figure size 432x288 with 1 Axes>"
            ]
          },
          "metadata": {
            "needs_background": "light"
          }
        }
      ]
    },
    {
      "cell_type": "code",
      "metadata": {
        "colab": {
          "base_uri": "https://localhost:8080/",
          "height": 313
        },
        "id": "fGqLJ2jYZ1Mq",
        "outputId": "b71c5d61-6354-46ac-a4ce-55cca6b44f72"
      },
      "source": [
        "plt.plot(clf3.loss_curve_)\n",
        "plt.title(\"Curva de error función tanh: variante 4\")\n",
        "plt.xlabel(\"ITERACIONES\")\n",
        "plt.ylabel(\"ERROR\")"
      ],
      "execution_count": null,
      "outputs": [
        {
          "output_type": "execute_result",
          "data": {
            "text/plain": [
              "Text(0, 0.5, 'ERROR')"
            ]
          },
          "metadata": {},
          "execution_count": 182
        },
        {
          "output_type": "display_data",
          "data": {
            "image/png": "[encoded data removed]",
            "text/plain": [
              "<Figure size 432x288 with 1 Axes>"
            ]
          },
          "metadata": {
            "needs_background": "light"
          }
        }
      ]
    },
    {
      "cell_type": "markdown",
      "metadata": {
        "id": "O2kQdyH2B6dQ"
      },
      "source": [
        "## **Función de activación sigmoidea**"
      ]
    },
    {
      "cell_type": "markdown",
      "metadata": {
        "id": "xkCMkIKQaXZg"
      },
      "source": [
        "### Se definen los modelos"
      ]
    },
    {
      "cell_type": "code",
      "metadata": {
        "id": "ZI5-o8bVBwOk"
      },
      "source": [
        "#Tres capas internas de 50 neuronas cada una\n",
        "#optimizador de la estocástica basada en gradientes propuesto por Kingma, Diederik y Jimmy Ba \n",
        "clf = MLPClassifier(\n",
        "    hidden_layer_sizes=(50, 50, 50),\n",
        "    solver=\"adam\",\n",
        "    max_iter=100,\n",
        "    activation = 'logistic'\n",
        "    #verbose=True\n",
        "    )\n",
        "\n",
        "#Tres capas internas de 50 neuronas cada una \n",
        "# Estocástica de gradiente descendiente\n",
        "clf1 = MLPClassifier(\n",
        "    hidden_layer_sizes=(50, 50, 50),\n",
        "    solver=\"sgd\",\n",
        "    max_iter=100,\n",
        "    activation = 'logistic'\n",
        "    #verbose=True\n",
        "    )\n",
        "\n",
        "#Tres capas internas de 20 neuronas cada una\n",
        "#optimizador de la estocástica basada en gradientes propuesto por Kingma, Diederik y Jimmy Ba \n",
        "clf2 = MLPClassifier(\n",
        "    hidden_layer_sizes=(20, 20, 20),\n",
        "    solver=\"adam\",\n",
        "    max_iter=100,\n",
        "    activation = 'logistic'\n",
        "    #verbose=True\n",
        "    )\n",
        "\n",
        "#Tres capas internas de 20 neuronas cada una \n",
        "# Estocástica de gradiente descendiente\n",
        "clf3 = MLPClassifier(\n",
        "    hidden_layer_sizes=(20, 20, 20),\n",
        "    solver=\"sgd\",\n",
        "    max_iter=100,\n",
        "    activation = 'logistic'\n",
        "    #verbose=True\n",
        "    )"
      ],
      "execution_count": null,
      "outputs": []
    },
    {
      "cell_type": "markdown",
      "metadata": {
        "id": "nRVuoHVNcEj2"
      },
      "source": [
        "### Se entrenan los modelos "
      ]
    },
    {
      "cell_type": "code",
      "metadata": {
        "colab": {
          "base_uri": "https://localhost:8080/"
        },
        "id": "re1ghZriC3D1",
        "outputId": "a788a240-db43-4a73-f85c-b9a7e85a793d"
      },
      "source": [
        "clf.fit(x_train, y_train)\n",
        "clf1.fit(x_train, y_train)\n",
        "clf2.fit(x_train, y_train)\n",
        "clf3.fit(x_train, y_train)"
      ],
      "execution_count": null,
      "outputs": [
        {
          "output_type": "stream",
          "name": "stderr",
          "text": [
            "/usr/local/lib/python3.7/dist-packages/sklearn/neural_network/_multilayer_perceptron.py:696: ConvergenceWarning: Stochastic Optimizer: Maximum iterations (100) reached and the optimization hasn't converged yet.\n",
            "  ConvergenceWarning,\n",
            "/usr/local/lib/python3.7/dist-packages/sklearn/neural_network/_multilayer_perceptron.py:696: ConvergenceWarning: Stochastic Optimizer: Maximum iterations (100) reached and the optimization hasn't converged yet.\n",
            "  ConvergenceWarning,\n"
          ]
        },
        {
          "output_type": "execute_result",
          "data": {
            "text/plain": [
              "MLPClassifier(activation='logistic', hidden_layer_sizes=(20, 20, 20),\n",
              "              max_iter=100, solver='sgd')"
            ]
          },
          "metadata": {},
          "execution_count": 184
        }
      ]
    },
    {
      "cell_type": "markdown",
      "metadata": {
        "id": "_jVpPocHc4k-"
      },
      "source": [
        "### Se generan las predicciónes con los datos de testing"
      ]
    },
    {
      "cell_type": "code",
      "metadata": {
        "id": "DVaFxqO3Dheq"
      },
      "source": [
        "y_pred = clf.predict(x_test)\n",
        "y_pred1 = clf1.predict(x_test)\n",
        "y_pred2 = clf2.predict(x_test)\n",
        "y_pred3 = clf3.predict(x_test)"
      ],
      "execution_count": null,
      "outputs": []
    },
    {
      "cell_type": "markdown",
      "metadata": {
        "id": "SRxJtO1pc9xX"
      },
      "source": [
        "### Se imprimen la matrices de confusión y los reportes de accuracy"
      ]
    },
    {
      "cell_type": "code",
      "metadata": {
        "colab": {
          "base_uri": "https://localhost:8080/"
        },
        "id": "ZpWNTTHwDhwW",
        "outputId": "864539cb-f52e-448a-e4df-6b864464ea18"
      },
      "source": [
        "print(\"Matriz de confusión y reporte función sigmoidea variante 1 \\n\")\n",
        "print(confusion_matrix(y_test,y_pred))\n",
        "print()\n",
        "print(classification_report(y_test,y_pred))\n",
        "print(\"\\nMatriz de confusión y reporte función sigmoidea variante 2 \\n\")\n",
        "print(confusion_matrix(y_test,y_pred1))\n",
        "print()\n",
        "print(classification_report(y_test,y_pred1))\n",
        "print(\"\\nMatriz de confusión y reporte función sigmoidea variante 3 \\n\")\n",
        "print(confusion_matrix(y_test,y_pred2))\n",
        "print()\n",
        "print(classification_report(y_test,y_pred2))\n",
        "print(\"\\nMatriz de confusión y reporte función sigmoidea variante 4 \\n\")\n",
        "print(confusion_matrix(y_test,y_pred3))\n",
        "print()\n",
        "print(classification_report(y_test,y_pred3))"
      ],
      "execution_count": null,
      "outputs": [
        {
          "output_type": "stream",
          "name": "stdout",
          "text": [
            "Matriz de confusión y reporte función sigmoidea variante 1 \n",
            "\n",
            "[[308   0   0   0   0   0   0   0   0   0   0   0  23   0   0   0   0   0\n",
            "    0   0   0   0   0   0]\n",
            " [  0 363   0   7   0   0   0   0   0  41   0   0   0   0   0   0   0   0\n",
            "    0  21   0   0   0   0]\n",
            " [  0   0 283   0   0   3   0   0   0   0   0   0   0  24   0   0   0   0\n",
            "    0   0   0   0   0   0]\n",
            " [  0   0   0 176   0   0   0   0   0   0   0   0  19   0   0   0   0   0\n",
            "    0  19   0   0  31   0]\n",
            " [  7   0   0   0 350   0   0   0   0   0   0   1   0   0   0   0   0 140\n",
            "    0   0   0   0   0   0]\n",
            " [  0   0   0   0   0 241   0   0   0   0   0   0   0   0   0   0   0   0\n",
            "    0   0   0   0   0   6]\n",
            " [  0   0   0   0   0   0 217  61   0   0   2   0  16   0   1  25   0   0\n",
            "   26   0   0   0   0   0]\n",
            " [  0   0   0   0   0   0  20 247  15   0   0  18   0  22  19  54   0   0\n",
            "   21   0   0   0  20   0]\n",
            " [ 38   0   0  39   0   0   0   0  82   0   0  41   0   0   0   3  21  32\n",
            "    0   0   0   0   0  32]\n",
            " [  0   0   0   0   0   0   0   0  20 176   5   0   0   0   0   0  38   0\n",
            "    0  56  21   6   0   9]\n",
            " [  0   0  22   0   0  12  13   0   0   0 147   0   0   0   0   0   0   0\n",
            "   14   0   0   0   1   0]\n",
            " [ 22   0   0   0  19   0   0   0  57   0   0 167  52  23   0   0   0  54\n",
            "    0   0   0   0   0   0]\n",
            " [ 47   0   0  37   0   1   3   0   0   0   0  42 144   0   0   0   0   0\n",
            "   17   0   0   0   0   0]\n",
            " [  0   0  23   0   0  21  15  41   0   0   0   6   0 140   0   0   0   0\n",
            "    0   0   0   0   0   0]\n",
            " [  0   0   0  17   0   0   0   0   0  20   0   0   0   0 259  30   0   0\n",
            "   12   0   0   0   9   0]\n",
            " [ 21   0   0   0   0   0   0   0   0   0   0   0   0   0   0 143   0   0\n",
            "    0   0   0   0   0   0]\n",
            " [  0   0   0   0   0   0   0   0   0   0  21   0   0   0   0   0  60   0\n",
            "    0  43   0  20   0   0]\n",
            " [  0   0   0   0  42   0   0   0  49   0   0  50  31   0   0   2   0  72\n",
            "    0   0   0   0   0   0]\n",
            " [  0   0  15  21   0   2   3   0   0   0   0   0   0   0   5   0   0   0\n",
            "  144   0  16   0  18  24]\n",
            " [  0   0   0  24   0   0   0   0   0  14   0   0   0   0   0   0  68   0\n",
            "    0 102  40  18   0   0]\n",
            " [  0   6   0   3   0  20   0   0   0   0   0   0   0   0   0   0   1   0\n",
            "    0   0 194  80  27  15]\n",
            " [  0   0   0   0   0   0   0   0   0  21   0   0   0   0   0   0   1   0\n",
            "    0  39   1 123   9  12]\n",
            " [  0   0   0   0   0   1   0   0   0  17   9   0   0   0   6   0   0   8\n",
            "    2   0  12  46 158   8]\n",
            " [  0  13   0  14   0   0   0   0  20   9   0   0   0   0   0   4  46  21\n",
            "   21   7  43   0   3 131]]\n",
            "\n",
            "              precision    recall  f1-score   support\n",
            "\n",
            "           0       0.70      0.93      0.80       331\n",
            "           1       0.95      0.84      0.89       432\n",
            "           2       0.83      0.91      0.87       310\n",
            "           3       0.52      0.72      0.60       245\n",
            "           4       0.85      0.70      0.77       498\n",
            "           5       0.80      0.98      0.88       247\n",
            "           6       0.80      0.62      0.70       348\n",
            "           7       0.71      0.57      0.63       436\n",
            "           8       0.34      0.28      0.31       288\n",
            "          10       0.59      0.53      0.56       331\n",
            "          11       0.80      0.70      0.75       209\n",
            "          12       0.51      0.42      0.46       394\n",
            "          13       0.51      0.49      0.50       291\n",
            "          14       0.67      0.57      0.62       246\n",
            "          15       0.89      0.75      0.81       347\n",
            "          16       0.55      0.87      0.67       164\n",
            "          17       0.26      0.42      0.32       144\n",
            "          18       0.22      0.29      0.25       246\n",
            "          19       0.56      0.58      0.57       248\n",
            "          20       0.36      0.38      0.37       266\n",
            "          21       0.59      0.56      0.58       346\n",
            "          22       0.42      0.60      0.49       206\n",
            "          23       0.57      0.59      0.58       267\n",
            "          24       0.55      0.39      0.46       332\n",
            "\n",
            "    accuracy                           0.62      7172\n",
            "   macro avg       0.61      0.61      0.60      7172\n",
            "weighted avg       0.64      0.62      0.62      7172\n",
            "\n",
            "\n",
            "Matriz de confusión y reporte función sigmoidea variante 2 \n",
            "\n",
            "[[  0   0   0   0   0   0   0   0   0   0   0   0   0   0   0   0 331   0\n",
            "    0   0   0   0   0   0]\n",
            " [  0   0   0   0   0   0   0   0   0   0   0   0   0   0   0   0 432   0\n",
            "    0   0   0   0   0   0]\n",
            " [  0   0   0   0   0   0   0   0   0   0   0   0   0   0   0   0 310   0\n",
            "    0   0   0   0   0   0]\n",
            " [  0   0   0   0   0   0   0   0   0   0   0   0   0   0   0   0 245   0\n",
            "    0   0   0   0   0   0]\n",
            " [  0   0   0   0   0   0   0   0   0   0   0   0   0   0   0   0 498   0\n",
            "    0   0   0   0   0   0]\n",
            " [  0   0   0   0   0   0   0   0   0   0   0   0   0   0   0   0 247   0\n",
            "    0   0   0   0   0   0]\n",
            " [  0   0   0   0   0   0   0   0   0   0   0   0   0   0   0   0 348   0\n",
            "    0   0   0   0   0   0]\n",
            " [  0   0   0   0   0   0   0   0   0   0   0   0   0   0   0   0 436   0\n",
            "    0   0   0   0   0   0]\n",
            " [  0   0   0   0   0   0   0   0   0   0   0   0   0   0   0   0 288   0\n",
            "    0   0   0   0   0   0]\n",
            " [  0   0   0   0   0   0   0   0   0   0   0   0   0   0   0   0 331   0\n",
            "    0   0   0   0   0   0]\n",
            " [  0   0   0   0   0   0   0   0   0   0   0   0   0   0   0   0 209   0\n",
            "    0   0   0   0   0   0]\n",
            " [  0   0   0   0   0   0   0   0   0   0   0   0   0   0   0   0 394   0\n",
            "    0   0   0   0   0   0]\n",
            " [  0   0   0   0   0   0   0   0   0   0   0   0   0   0   0   0 291   0\n",
            "    0   0   0   0   0   0]\n",
            " [  0   0   0   0   0   0   0   0   0   0   0   0   0   0   0   0 246   0\n",
            "    0   0   0   0   0   0]\n",
            " [  0   0   0   0   0   0   0   0   0   0   0   0   0   0   0   0 347   0\n",
            "    0   0   0   0   0   0]\n",
            " [  0   0   0   0   0   0   0   0   0   0   0   0   0   0   0   0 164   0\n",
            "    0   0   0   0   0   0]\n",
            " [  0   0   0   0   0   0   0   0   0   0   0   0   0   0   0   0 144   0\n",
            "    0   0   0   0   0   0]\n",
            " [  0   0   0   0   0   0   0   0   0   0   0   0   0   0   0   0 246   0\n",
            "    0   0   0   0   0   0]\n",
            " [  0   0   0   0   0   0   0   0   0   0   0   0   0   0   0   0 248   0\n",
            "    0   0   0   0   0   0]\n",
            " [  0   0   0   0   0   0   0   0   0   0   0   0   0   0   0   0 266   0\n",
            "    0   0   0   0   0   0]\n",
            " [  0   0   0   0   0   0   0   0   0   0   0   0   0   0   0   0 346   0\n",
            "    0   0   0   0   0   0]\n",
            " [  0   0   0   0   0   0   0   0   0   0   0   0   0   0   0   0 206   0\n",
            "    0   0   0   0   0   0]\n",
            " [  0   0   0   0   0   0   0   0   0   0   0   0   0   0   0   0 267   0\n",
            "    0   0   0   0   0   0]\n",
            " [  0   0   0   0   0   0   0   0   0   0   0   0   0   0   0   0 332   0\n",
            "    0   0   0   0   0   0]]\n",
            "\n",
            "              precision    recall  f1-score   support\n",
            "\n",
            "           0       0.00      0.00      0.00       331\n",
            "           1       0.00      0.00      0.00       432\n",
            "           2       0.00      0.00      0.00       310\n",
            "           3       0.00      0.00      0.00       245\n",
            "           4       0.00      0.00      0.00       498\n",
            "           5       0.00      0.00      0.00       247\n",
            "           6       0.00      0.00      0.00       348\n",
            "           7       0.00      0.00      0.00       436\n",
            "           8       0.00      0.00      0.00       288\n",
            "          10       0.00      0.00      0.00       331\n",
            "          11       0.00      0.00      0.00       209\n",
            "          12       0.00      0.00      0.00       394\n",
            "          13       0.00      0.00      0.00       291\n",
            "          14       0.00      0.00      0.00       246\n",
            "          15       0.00      0.00      0.00       347\n",
            "          16       0.00      0.00      0.00       164\n",
            "          17       0.02      1.00      0.04       144\n",
            "          18       0.00      0.00      0.00       246\n",
            "          19       0.00      0.00      0.00       248\n",
            "          20       0.00      0.00      0.00       266\n",
            "          21       0.00      0.00      0.00       346\n",
            "          22       0.00      0.00      0.00       206\n",
            "          23       0.00      0.00      0.00       267\n",
            "          24       0.00      0.00      0.00       332\n",
            "\n",
            "    accuracy                           0.02      7172\n",
            "   macro avg       0.00      0.04      0.00      7172\n",
            "weighted avg       0.00      0.02      0.00      7172\n",
            "\n",
            "\n",
            "Matriz de confusión y reporte función sigmoidea variante 3 \n",
            "\n",
            "[[291   0   0   0  40   0   0   0   0   0   0   0   0   0   0   0   0   0\n",
            "    0   0   0   0   0   0]\n",
            " [  0 250   0  46   0   0   0   0  10   1   0   0   0   0   0   0  23   0\n",
            "    0  60   0   0   0  42]\n",
            " [ 18   0 233   0   0  14  13   1   1   0   0   0   0  28   0   0   0   2\n",
            "    0   0   0   0   0   0]\n",
            " [  0  19   0 134   0   0   0   0   0   0   0   0   0   0   0   0   4   0\n",
            "    0  61   9   0  15   3]\n",
            " [ 23   0   0   0 380   0   0   0   0   0   0  67   1   0   0   0   0  27\n",
            "    0   0   0   0   0   0]\n",
            " [  0   0   0   0   0 200   0   1   0   0  38   0   0   0   0   0   0   0\n",
            "    6   0   0   2   0   0]\n",
            " [  0   0  13   0   0   0 186  45   0   0   0   0   0   0   0  14   0   0\n",
            "   90   0   0   0   0   0]\n",
            " [  0   0  28   0   0  34  90 225   0   0  30   0   0  21   0   2   0   0\n",
            "    6   0   0   0   0   0]\n",
            " [ 16  33   0   0   0  14   0   0 135   0   0   1   3  31   0   0   7   7\n",
            "    0  12   0   0   0  29]\n",
            " [  0  20   0   0   0   0   0   0  26  94  21   0   0   0   0   0  20   0\n",
            "    0   0  94  41   0  15]\n",
            " [  0   0   0   0   0   0  14  20   0   0 164   0   0   0   0   0   0   0\n",
            "   11   0   0   0   0   0]\n",
            " [  0   0   0   0  37   0   0   0   0   0   0 124  99   0   0  18   0 113\n",
            "    3   0   0   0   0   0]\n",
            " [ 45   0   0   0  38   1   0   0   0   0   0 119   8  18   0  16   0  20\n",
            "   26   0   0   0   0   0]\n",
            " [ 12   0  13   0   0   0  17  28   0   0   0   1   0 167   0   0   0   0\n",
            "    8   0   0   0   0   0]\n",
            " [  0   0   0   0   0   0   0   0   0   0   2   0   0   0 287   0   0   0\n",
            "    0   0  22   0  36   0]\n",
            " [  0   0   0   0   0   0   0   0   0   0   0  21   0   0   0 143   0   0\n",
            "    0   0   0   0   0   0]\n",
            " [  0   0   0   0   0   0   0   0   0   3  20   0   0   0   0   0  79   0\n",
            "    0   1   1  20   0  20]\n",
            " [  0   3   0   0  51   0   0   0  44   0   0  12  12   0   0   1   0 104\n",
            "   19   0   0   0   0   0]\n",
            " [  0   0   0   0   0  34   0   7   0   0  27   0   0   0   0   0   0   0\n",
            "  134   0   6  15  25   0]\n",
            " [  0   0   0  19   0   0   0   0   0   0   0   0   0   0   0   0 102   0\n",
            "    0  84  26   0   0  35]\n",
            " [  0   0   0   3   0  18   0   0   0  40  70   0   0   0   6   0   0   0\n",
            "    1   0 126  47  26   9]\n",
            " [  0   0   0   0   0   9   0   0   0  13   4   0   0   0   0   0   2   0\n",
            "    0  18  20 120   0  20]\n",
            " [  0   0   0   0   0  16   1   0  12   0  19   0   0   0   0   0   0   0\n",
            "   13   0  14  43 137  12]\n",
            " [  0  11   0   0   0  13   0   0  69   0  29   0   0   0   0   0   0   0\n",
            "    0   0   2  76   0 132]]\n",
            "\n",
            "              precision    recall  f1-score   support\n",
            "\n",
            "           0       0.72      0.88      0.79       331\n",
            "           1       0.74      0.58      0.65       432\n",
            "           2       0.81      0.75      0.78       310\n",
            "           3       0.66      0.55      0.60       245\n",
            "           4       0.70      0.76      0.73       498\n",
            "           5       0.57      0.81      0.67       247\n",
            "           6       0.58      0.53      0.56       348\n",
            "           7       0.69      0.52      0.59       436\n",
            "           8       0.45      0.47      0.46       288\n",
            "          10       0.62      0.28      0.39       331\n",
            "          11       0.39      0.78      0.52       209\n",
            "          12       0.36      0.31      0.34       394\n",
            "          13       0.07      0.03      0.04       291\n",
            "          14       0.63      0.68      0.65       246\n",
            "          15       0.98      0.83      0.90       347\n",
            "          16       0.74      0.87      0.80       164\n",
            "          17       0.33      0.55      0.41       144\n",
            "          18       0.38      0.42      0.40       246\n",
            "          19       0.42      0.54      0.47       248\n",
            "          20       0.36      0.32      0.33       266\n",
            "          21       0.39      0.36      0.38       346\n",
            "          22       0.33      0.58      0.42       206\n",
            "          23       0.57      0.51      0.54       267\n",
            "          24       0.42      0.40      0.41       332\n",
            "\n",
            "    accuracy                           0.55      7172\n",
            "   macro avg       0.54      0.56      0.53      7172\n",
            "weighted avg       0.56      0.55      0.54      7172\n",
            "\n",
            "\n",
            "Matriz de confusión y reporte función sigmoidea variante 4 \n",
            "\n",
            "[[  0   0   0   0   0   0   0   0   0   0   0   0   0   0   0   0 331   0\n",
            "    0   0   0   0   0   0]\n",
            " [  0   0   0   0   0   0   0   0   0   0   0   0   0   0   0   0 432   0\n",
            "    0   0   0   0   0   0]\n",
            " [  0   0   0   0   0   0   0   0   0   0   0   0   0   0   0   0 310   0\n",
            "    0   0   0   0   0   0]\n",
            " [  0   0   0   0   0   0   0   0   0   0   0   0   0   0   0   0 245   0\n",
            "    0   0   0   0   0   0]\n",
            " [  0   0   0   0   0   0   0   0   0   0   0   0   0   0   0   0 498   0\n",
            "    0   0   0   0   0   0]\n",
            " [  0   0   0   0   0   0   0   0   0   0   0   0   0   0   0   0 247   0\n",
            "    0   0   0   0   0   0]\n",
            " [  0   0   0   0   0   0   0   0   0   0   0   0   0   0   0   0 348   0\n",
            "    0   0   0   0   0   0]\n",
            " [  0   0   0   0   0   0   0   0   0   0   0   0   0   0   0   0 436   0\n",
            "    0   0   0   0   0   0]\n",
            " [  0   0   0   0   0   0   0   0   0   0   0   0   0   0   0   0 288   0\n",
            "    0   0   0   0   0   0]\n",
            " [  0   0   0   0   0   0   0   0   0   0   0   0   0   0   0   0 331   0\n",
            "    0   0   0   0   0   0]\n",
            " [  0   0   0   0   0   0   0   0   0   0   0   0   0   0   0   0 209   0\n",
            "    0   0   0   0   0   0]\n",
            " [  0   0   0   0   0   0   0   0   0   0   0   0   0   0   0   0 394   0\n",
            "    0   0   0   0   0   0]\n",
            " [  0   0   0   0   0   0   0   0   0   0   0   0   0   0   0   0 291   0\n",
            "    0   0   0   0   0   0]\n",
            " [  0   0   0   0   0   0   0   0   0   0   0   0   0   0   0   0 246   0\n",
            "    0   0   0   0   0   0]\n",
            " [  0   0   0   0   0   0   0   0   0   0   0   0   0   0   0   0 347   0\n",
            "    0   0   0   0   0   0]\n",
            " [  0   0   0   0   0   0   0   0   0   0   0   0   0   0   0   0 164   0\n",
            "    0   0   0   0   0   0]\n",
            " [  0   0   0   0   0   0   0   0   0   0   0   0   0   0   0   0 144   0\n",
            "    0   0   0   0   0   0]\n",
            " [  0   0   0   0   0   0   0   0   0   0   0   0   0   0   0   0 246   0\n",
            "    0   0   0   0   0   0]\n",
            " [  0   0   0   0   0   0   0   0   0   0   0   0   0   0   0   0 248   0\n",
            "    0   0   0   0   0   0]\n",
            " [  0   0   0   0   0   0   0   0   0   0   0   0   0   0   0   0 266   0\n",
            "    0   0   0   0   0   0]\n",
            " [  0   0   0   0   0   0   0   0   0   0   0   0   0   0   0   0 346   0\n",
            "    0   0   0   0   0   0]\n",
            " [  0   0   0   0   0   0   0   0   0   0   0   0   0   0   0   0 206   0\n",
            "    0   0   0   0   0   0]\n",
            " [  0   0   0   0   0   0   0   0   0   0   0   0   0   0   0   0 267   0\n",
            "    0   0   0   0   0   0]\n",
            " [  0   0   0   0   0   0   0   0   0   0   0   0   0   0   0   0 332   0\n",
            "    0   0   0   0   0   0]]\n",
            "\n",
            "              precision    recall  f1-score   support\n",
            "\n",
            "           0       0.00      0.00      0.00       331\n",
            "           1       0.00      0.00      0.00       432\n",
            "           2       0.00      0.00      0.00       310\n",
            "           3       0.00      0.00      0.00       245\n",
            "           4       0.00      0.00      0.00       498\n",
            "           5       0.00      0.00      0.00       247\n",
            "           6       0.00      0.00      0.00       348\n",
            "           7       0.00      0.00      0.00       436\n",
            "           8       0.00      0.00      0.00       288\n",
            "          10       0.00      0.00      0.00       331\n",
            "          11       0.00      0.00      0.00       209\n",
            "          12       0.00      0.00      0.00       394\n",
            "          13       0.00      0.00      0.00       291\n",
            "          14       0.00      0.00      0.00       246\n",
            "          15       0.00      0.00      0.00       347\n",
            "          16       0.00      0.00      0.00       164\n",
            "          17       0.02      1.00      0.04       144\n",
            "          18       0.00      0.00      0.00       246\n",
            "          19       0.00      0.00      0.00       248\n",
            "          20       0.00      0.00      0.00       266\n",
            "          21       0.00      0.00      0.00       346\n",
            "          22       0.00      0.00      0.00       206\n",
            "          23       0.00      0.00      0.00       267\n",
            "          24       0.00      0.00      0.00       332\n",
            "\n",
            "    accuracy                           0.02      7172\n",
            "   macro avg       0.00      0.04      0.00      7172\n",
            "weighted avg       0.00      0.02      0.00      7172\n",
            "\n"
          ]
        },
        {
          "output_type": "stream",
          "name": "stderr",
          "text": [
            "/usr/local/lib/python3.7/dist-packages/sklearn/metrics/_classification.py:1308: UndefinedMetricWarning: Precision and F-score are ill-defined and being set to 0.0 in labels with no predicted samples. Use `zero_division` parameter to control this behavior.\n",
            "  _warn_prf(average, modifier, msg_start, len(result))\n",
            "/usr/local/lib/python3.7/dist-packages/sklearn/metrics/_classification.py:1308: UndefinedMetricWarning: Precision and F-score are ill-defined and being set to 0.0 in labels with no predicted samples. Use `zero_division` parameter to control this behavior.\n",
            "  _warn_prf(average, modifier, msg_start, len(result))\n",
            "/usr/local/lib/python3.7/dist-packages/sklearn/metrics/_classification.py:1308: UndefinedMetricWarning: Precision and F-score are ill-defined and being set to 0.0 in labels with no predicted samples. Use `zero_division` parameter to control this behavior.\n",
            "  _warn_prf(average, modifier, msg_start, len(result))\n",
            "/usr/local/lib/python3.7/dist-packages/sklearn/metrics/_classification.py:1308: UndefinedMetricWarning: Precision and F-score are ill-defined and being set to 0.0 in labels with no predicted samples. Use `zero_division` parameter to control this behavior.\n",
            "  _warn_prf(average, modifier, msg_start, len(result))\n",
            "/usr/local/lib/python3.7/dist-packages/sklearn/metrics/_classification.py:1308: UndefinedMetricWarning: Precision and F-score are ill-defined and being set to 0.0 in labels with no predicted samples. Use `zero_division` parameter to control this behavior.\n",
            "  _warn_prf(average, modifier, msg_start, len(result))\n",
            "/usr/local/lib/python3.7/dist-packages/sklearn/metrics/_classification.py:1308: UndefinedMetricWarning: Precision and F-score are ill-defined and being set to 0.0 in labels with no predicted samples. Use `zero_division` parameter to control this behavior.\n",
            "  _warn_prf(average, modifier, msg_start, len(result))\n"
          ]
        }
      ]
    },
    {
      "cell_type": "markdown",
      "metadata": {
        "id": "lYYhO2I8dRVk"
      },
      "source": [
        "### Se imprimen los accuracy de los modelos"
      ]
    },
    {
      "cell_type": "code",
      "metadata": {
        "colab": {
          "base_uri": "https://localhost:8080/"
        },
        "id": "RXzDuWqcDh5E",
        "outputId": "842e7754-5f97-4820-d68d-f7d8d7ca248f"
      },
      "source": [
        "print('\\n Accuracy función sigmoidea variante 1: {}%'.format(round(accuracy_score(y_test, y_pred), 2)*100))\n",
        "print('\\n Accuracy función sigmoidea variante 2: {}%'.format(round(accuracy_score(y_test, y_pred1), 2)*100))\n",
        "print('\\n Accuracy función sigmoidea variante 3: {}%'.format(round(accuracy_score(y_test, y_pred2), 2)*100))\n",
        "print('\\n Accuracy función sigmoidea variante 4: {}%'.format(round(accuracy_score(y_test, y_pred3), 2)*100))"
      ],
      "execution_count": null,
      "outputs": [
        {
          "output_type": "stream",
          "name": "stdout",
          "text": [
            "\n",
            " Accuracy función sigmoidea variante 1: 62.0%\n",
            "\n",
            " Accuracy función sigmoidea variante 2: 2.0%\n",
            "\n",
            " Accuracy función sigmoidea variante 3: 55.00000000000001%\n",
            "\n",
            " Accuracy función sigmoidea variante 4: 2.0%\n"
          ]
        }
      ]
    },
    {
      "cell_type": "markdown",
      "metadata": {
        "id": "mr3muVVTddoQ"
      },
      "source": [
        "### Se plotean las curvas de error"
      ]
    },
    {
      "cell_type": "code",
      "metadata": {
        "colab": {
          "base_uri": "https://localhost:8080/",
          "height": 313
        },
        "id": "IpTLYB1kDuOe",
        "outputId": "ed68a857-9847-49ab-8a79-00d4fe1e081c"
      },
      "source": [
        "plt.plot(clf.loss_curve_)\n",
        "plt.title(\"Curva de error función sigmoidea: variante 1\")\n",
        "plt.xlabel(\"ITERACIONES\")\n",
        "plt.ylabel(\"ERROR\")"
      ],
      "execution_count": null,
      "outputs": [
        {
          "output_type": "execute_result",
          "data": {
            "text/plain": [
              "Text(0, 0.5, 'ERROR')"
            ]
          },
          "metadata": {},
          "execution_count": 188
        },
        {
          "output_type": "display_data",
          "data": {
            "image/png": "[encoded data removed]",
            "text/plain": [
              "<Figure size 432x288 with 1 Axes>"
            ]
          },
          "metadata": {
            "needs_background": "light"
          }
        }
      ]
    },
    {
      "cell_type": "code",
      "metadata": {
        "colab": {
          "base_uri": "https://localhost:8080/",
          "height": 313
        },
        "id": "dkuc8p-MepyK",
        "outputId": "f3b8d53c-6057-4f24-c148-f29beb731f25"
      },
      "source": [
        "plt.plot(clf1.loss_curve_)\n",
        "plt.title(\"Curva de error función relu: variante 2\")\n",
        "plt.xlabel(\"ITERACIONES\")\n",
        "plt.ylabel(\"ERROR\")"
      ],
      "execution_count": null,
      "outputs": [
        {
          "output_type": "execute_result",
          "data": {
            "text/plain": [
              "Text(0, 0.5, 'ERROR')"
            ]
          },
          "metadata": {},
          "execution_count": 189
        },
        {
          "output_type": "display_data",
          "data": {
            "image/png": "[encoded data removed]",
            "text/plain": [
              "<Figure size 432x288 with 1 Axes>"
            ]
          },
          "metadata": {
            "needs_background": "light"
          }
        }
      ]
    },
    {
      "cell_type": "code",
      "metadata": {
        "colab": {
          "base_uri": "https://localhost:8080/",
          "height": 313
        },
        "id": "N-83NkM6euJl",
        "outputId": "b21eab81-431d-41fd-fd35-cbfc8c920c2d"
      },
      "source": [
        "plt.plot(clf2.loss_curve_)\n",
        "plt.title(\"Curva de error función relu: variante 3\")\n",
        "plt.xlabel(\"ITERACIONES\")\n",
        "plt.ylabel(\"ERROR\")"
      ],
      "execution_count": null,
      "outputs": [
        {
          "output_type": "execute_result",
          "data": {
            "text/plain": [
              "Text(0, 0.5, 'ERROR')"
            ]
          },
          "metadata": {},
          "execution_count": 190
        },
        {
          "output_type": "display_data",
          "data": {
            "image/png": "[encoded data removed]",
            "text/plain": [
              "<Figure size 432x288 with 1 Axes>"
            ]
          },
          "metadata": {
            "needs_background": "light"
          }
        }
      ]
    },
    {
      "cell_type": "code",
      "metadata": {
        "colab": {
          "base_uri": "https://localhost:8080/",
          "height": 313
        },
        "id": "nN4rnXkkew9l",
        "outputId": "c4ee0d94-d18b-4694-85ad-73db85c58a91"
      },
      "source": [
        "plt.plot(clf3.loss_curve_)\n",
        "plt.title(\"Curva de error función relu: variante 4\")\n",
        "plt.xlabel(\"ITERACIONES\")\n",
        "plt.ylabel(\"ERROR\")"
      ],
      "execution_count": null,
      "outputs": [
        {
          "output_type": "execute_result",
          "data": {
            "text/plain": [
              "Text(0, 0.5, 'ERROR')"
            ]
          },
          "metadata": {},
          "execution_count": 191
        },
        {
          "output_type": "display_data",
          "data": {
            "image/png": "[encoded data removed]",
            "text/plain": [
              "<Figure size 432x288 with 1 Axes>"
            ]
          },
          "metadata": {
            "needs_background": "light"
          }
        }
      ]
    }
  ]
}